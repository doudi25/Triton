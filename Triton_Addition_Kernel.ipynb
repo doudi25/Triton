{
  "nbformat": 4,
  "nbformat_minor": 0,
  "metadata": {
    "colab": {
      "provenance": [],
      "gpuType": "T4",
      "authorship_tag": "ABX9TyPe/ISSIeAkrW/0gcNeBxnM",
      "include_colab_link": true
    },
    "kernelspec": {
      "name": "python3",
      "display_name": "Python 3"
    },
    "language_info": {
      "name": "python"
    },
    "accelerator": "GPU"
  },
  "cells": [
    {
      "cell_type": "markdown",
      "metadata": {
        "id": "view-in-github",
        "colab_type": "text"
      },
      "source": [
        "<a href=\"https://colab.research.google.com/github/doudi25/Triton/blob/main/Triton_Addition_Kernel.ipynb\" target=\"_parent\"><img src=\"https://colab.research.google.com/assets/colab-badge.svg\" alt=\"Open In Colab\"/></a>"
      ]
    },
    {
      "cell_type": "code",
      "execution_count": 17,
      "metadata": {
        "id": "XId0rtDEYIF0"
      },
      "outputs": [],
      "source": [
        "import triton\n",
        "import triton.language as tl\n",
        "import torch\n"
      ]
    },
    {
      "cell_type": "code",
      "source": [
        "@triton.jit\n",
        "def add_kernel(a_ptr,b_ptr,out_ptr,n_elements,BLOCK_SIZE:tl.constexpr):\n",
        "  # assign program id is like assign nth thread block in cuda\n",
        "  pid = tl.program_id(axis=0)\n",
        "  # block_id to assign the index of which block we are work with know\n",
        "  block_id = pid * BLOCK_SIZE\n",
        "  #\n",
        "  offsets = block_id + tl.arange(0,BLOCK_SIZE)\n",
        "  # create  boolean mask to avoid threads that are not needed to participate in computation\n",
        "  mask = offsets < n_elements\n",
        "  # load the values located by the pointer that is pointed to the first element in array , since the vector is contiguous sequence of memory and have stride 1 we can add directly the offset to pointer\n",
        "  a = tl.load(a_ptr + offsets,mask = mask)\n",
        "  b = tl.load(b_ptr + offsets,mask = mask)\n",
        "  # compute the addition\n",
        "  out = a + b\n",
        "  # store the result out_ptr + offsets , if we are working with first part then we are saving and ex block_size = 4 , out_ptr + [0,1,2,3] = out this will change the first four values\n",
        "  tl.store(out_ptr + offsets,out,mask=mask)\n"
      ],
      "metadata": {
        "id": "podCNTBLYN_W"
      },
      "execution_count": 18,
      "outputs": []
    },
    {
      "cell_type": "code",
      "source": [
        "def add(a,b):\n",
        "  # allocate the output in the memory\n",
        "  out = torch.empty_like(a)\n",
        "  # calculate the number of elements\n",
        "  n_elements = out.numel()\n",
        "  # configuration of the grid , to know how much thread block we need (aka pid)\n",
        "  grid = lambda meta : (triton.cdiv(n_elements,meta['BLOCK_SIZE']),)\n",
        "  # launch the kernel\n",
        "  add_kernel[grid](a,b,out,n_elements,BLOCK_SIZE=1024)\n",
        "  return out"
      ],
      "metadata": {
        "id": "EHrgCowAYzzX"
      },
      "execution_count": 19,
      "outputs": []
    },
    {
      "cell_type": "code",
      "source": [
        "torch.cuda.manual_seed(42)\n",
        "# generate random vectors with size of 1 million\n",
        "a = torch.randn(1000000,device='cuda')\n",
        "b = torch.randn(1000000,device='cuda')\n",
        "out = add(a,b)"
      ],
      "metadata": {
        "id": "IM6SxbnJZTt3"
      },
      "execution_count": 20,
      "outputs": []
    },
    {
      "cell_type": "code",
      "source": [
        "# in pytorch\n",
        "result = a + b"
      ],
      "metadata": {
        "id": "ZNqCLLODaHZ-"
      },
      "execution_count": 21,
      "outputs": []
    },
    {
      "cell_type": "code",
      "source": [
        "print(f'the result is {result==out}')\n",
        "print(f'{torch.allclose(out,result)}')"
      ],
      "metadata": {
        "colab": {
          "base_uri": "https://localhost:8080/"
        },
        "id": "A2I11goMaJ1c",
        "outputId": "cc256d45-66a6-409f-d8eb-c54e742e4fa9"
      },
      "execution_count": 23,
      "outputs": [
        {
          "output_type": "stream",
          "name": "stdout",
          "text": [
            "the result is tensor([True, True, True,  ..., True, True, True], device='cuda:0')\n",
            "True\n"
          ]
        }
      ]
    }
  ]
}