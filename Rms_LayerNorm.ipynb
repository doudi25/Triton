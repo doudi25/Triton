{
  "nbformat": 4,
  "nbformat_minor": 0,
  "metadata": {
    "colab": {
      "provenance": [],
      "gpuType": "T4",
      "authorship_tag": "ABX9TyMEdFBIk9jt9Zbp6TDaACYP",
      "include_colab_link": true
    },
    "kernelspec": {
      "name": "python3",
      "display_name": "Python 3"
    },
    "language_info": {
      "name": "python"
    },
    "accelerator": "GPU"
  },
  "cells": [
    {
      "cell_type": "markdown",
      "metadata": {
        "id": "view-in-github",
        "colab_type": "text"
      },
      "source": [
        "<a href=\"https://colab.research.google.com/github/doudi25/Triton/blob/main/Rms_LayerNorm.ipynb\" target=\"_parent\"><img src=\"https://colab.research.google.com/assets/colab-badge.svg\" alt=\"Open In Colab\"/></a>"
      ]
    },
    {
      "cell_type": "code",
      "execution_count": 1,
      "metadata": {
        "id": "d2LOSoG_WQCY"
      },
      "outputs": [],
      "source": [
        "import torch\n",
        "from torch import nn as nn\n",
        "import triton\n",
        "import triton.language as tl"
      ]
    },
    {
      "cell_type": "code",
      "source": [
        "@triton.jit\n",
        "def RMSNorm_kernel(input_ptr,out_ptr,weight_ptr,stride_m,stride_n,bs,seq_len,BLOCK_SIZE_SEQ:tl.constexpr,BLOCK_SIZE_BATCH:tl.constexpr):\n",
        "  batch_id = tl.program_id(axis=0)\n",
        "  batch_offs = batch_id * BLOCK_SIZE_BATCH + tl.arange(0,BLOCK_SIZE_BATCH)\n",
        "  seq_offs = tl.arange(0,BLOCK_SIZE_SEQ)\n",
        "  mask = (batch_offs[:,None] < bs ) & (seq_offs[None,:] < seq_len)\n",
        "  batch_offs = batch_offs[:,None] * stride_m\n",
        "  seq_offs = seq_offs[None,:] * stride_n\n",
        "  input = tl.load(input_ptr + batch_offs + seq_offs,mask=mask)\n",
        "  input = input.to(dtype=tl.float32)\n",
        "  weight = tl.load(weight_ptr + seq_offs,mask=seq_offs< seq_len)\n",
        "  weight = weight.to(dtype=tl.float32)\n",
        "  ms = tl.sum(input*input,axis=1,keep_dims=True)/seq_len\n",
        "  ms = ms.to(dtype=tl.float32)\n",
        "  out = tl.rsqrt(ms) * input * weight\n",
        "  out = out.to(dtype=tl.float32)\n",
        "  tl.store(out_ptr + batch_offs + seq_offs,out)\n"
      ],
      "metadata": {
        "id": "-xV5-aiCrpoL"
      },
      "execution_count": 48,
      "outputs": []
    },
    {
      "cell_type": "code",
      "source": [
        "def triton_RMSNorm(input,weight):\n",
        "  assert input.is_cuda\n",
        "  assert weight.is_cuda\n",
        "  bs,seq_len = input.shape\n",
        "  out = torch.empty_like(input,device=input.device,dtype=input.dtype)\n",
        "  BLOCK_SIZE_SEQ = triton.next_power_of_2(seq_len)\n",
        "  BLOCK_SIZE_BATCH = BLOCK_SIZE_SEQ\n",
        "  grid = triton.cdiv(bs,BLOCK_SIZE_BATCH)\n",
        "  RMSNorm_kernel[(grid,)](input,out,weight,\n",
        "                       input.stride(0),input.stride(1),bs,seq_len,BLOCK_SIZE_SEQ,BLOCK_SIZE_BATCH)\n",
        "  return out\n"
      ],
      "metadata": {
        "id": "2P9O3bcHW7xc"
      },
      "execution_count": 49,
      "outputs": []
    },
    {
      "cell_type": "code",
      "source": [
        "layer = nn.RMSNorm(128).to('cuda')\n",
        "layer = layer.to(dtype=torch.float32)\n",
        "input = 5 * torch.rand((512,128),device='cuda',dtype=torch.float32)\n",
        "out = layer(input)\n",
        "out_triton = triton_RMSNorm(input,layer.weight)"
      ],
      "metadata": {
        "id": "68hmd_wmtmPW"
      },
      "execution_count": 55,
      "outputs": []
    },
    {
      "cell_type": "code",
      "source": [
        "print(torch.allclose(out,out_triton))"
      ],
      "metadata": {
        "id": "cpuu97eWxlpL",
        "colab": {
          "base_uri": "https://localhost:8080/"
        },
        "outputId": "fd6587f1-1395-4f42-9ab5-d33d5ab5d45e"
      },
      "execution_count": 56,
      "outputs": [
        {
          "output_type": "stream",
          "name": "stdout",
          "text": [
            "True\n"
          ]
        }
      ]
    }
  ]
}