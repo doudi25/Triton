{
  "nbformat": 4,
  "nbformat_minor": 0,
  "metadata": {
    "colab": {
      "provenance": [],
      "gpuType": "T4",
      "authorship_tag": "ABX9TyOcGbnBuVjEHJeF8YtOeHlF",
      "include_colab_link": true
    },
    "kernelspec": {
      "name": "python3",
      "display_name": "Python 3"
    },
    "language_info": {
      "name": "python"
    },
    "accelerator": "GPU"
  },
  "cells": [
    {
      "cell_type": "markdown",
      "metadata": {
        "id": "view-in-github",
        "colab_type": "text"
      },
      "source": [
        "<a href=\"https://colab.research.google.com/github/doudi25/Triton/blob/main/Flatten.ipynb\" target=\"_parent\"><img src=\"https://colab.research.google.com/assets/colab-badge.svg\" alt=\"Open In Colab\"/></a>"
      ]
    },
    {
      "cell_type": "code",
      "execution_count": 1,
      "metadata": {
        "id": "MxNiJg2tLBaN"
      },
      "outputs": [],
      "source": [
        "import torch\n",
        "from torch import nn\n",
        "import triton\n",
        "import triton.language as tl"
      ]
    },
    {
      "cell_type": "code",
      "source": [
        "@triton.jit\n",
        "def flatten_kernel(x_ptr,stride_b,stride_m,stride_n,y_ptr,BLOCK_SIZE_COL:tl.constexpr,b,m,n):\n",
        "  batch_id = tl.program_id(axis=0)\n",
        "  row_id = tl.program_id(axis=1)\n",
        "  col_id = tl.program_id(axis=2)\n",
        "  col_offs = col_id* BLOCK_SIZE_COL + tl.arange(0,BLOCK_SIZE_COL)\n",
        "  mask = col_offs[None,:] < n\n",
        "  x_ptrs = x_ptr + batch_id * stride_b + row_id * stride_m + col_offs[None,:] * stride_n\n",
        "  x = tl.load(x_ptrs,mask=mask)\n",
        "  y_ptrs = y_ptr + batch_id * stride_b + row_id * stride_m + col_offs\n",
        "  tl.store(y_ptrs,x,mask=mask)\n"
      ],
      "metadata": {
        "id": "xrvDBHdjXutz"
      },
      "execution_count": 24,
      "outputs": []
    },
    {
      "cell_type": "code",
      "source": [
        "def flatten(x:torch.tensor):\n",
        "  assert x.is_cuda\n",
        "  if not x.is_contiguous():\n",
        "    x = x.contiguous()\n",
        "  y = torch.empty(x.numel(),device=x.device,dtype=x.dtype)\n",
        "  b,m,n = x.shape\n",
        "  BLOCK_SIZE_COL = 128\n",
        "  grid = (b,m,triton.cdiv(x.shape[-1],BLOCK_SIZE_COL))\n",
        "  flatten_kernel[grid](x,x.stride(0),x.stride(1),x.stride(2),y,BLOCK_SIZE_COL,b,m,n)\n",
        "  return y"
      ],
      "metadata": {
        "id": "qgsjwee6VAvb"
      },
      "execution_count": 28,
      "outputs": []
    },
    {
      "cell_type": "code",
      "source": [
        "x = torch.randn((6,32,1024),device='cuda',dtype=torch.float32)\n",
        "y_torch = x.flatten()\n",
        "y = flatten(x)"
      ],
      "metadata": {
        "id": "S2EdOMlxcxya"
      },
      "execution_count": 32,
      "outputs": []
    },
    {
      "cell_type": "code",
      "source": [
        "print(torch.allclose(y,y_torch))"
      ],
      "metadata": {
        "colab": {
          "base_uri": "https://localhost:8080/"
        },
        "id": "aAe5amkac_Xq",
        "outputId": "32a123bf-3a4c-4a80-ddd7-08e09dfcc684"
      },
      "execution_count": 34,
      "outputs": [
        {
          "output_type": "stream",
          "name": "stdout",
          "text": [
            "True\n"
          ]
        }
      ]
    }
  ]
}