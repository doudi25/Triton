{
  "nbformat": 4,
  "nbformat_minor": 0,
  "metadata": {
    "colab": {
      "provenance": [],
      "gpuType": "T4",
      "authorship_tag": "ABX9TyP6U8paUymMTySJL46Ux8il",
      "include_colab_link": true
    },
    "kernelspec": {
      "name": "python3",
      "display_name": "Python 3"
    },
    "language_info": {
      "name": "python"
    },
    "accelerator": "GPU"
  },
  "cells": [
    {
      "cell_type": "markdown",
      "metadata": {
        "id": "view-in-github",
        "colab_type": "text"
      },
      "source": [
        "<a href=\"https://colab.research.google.com/github/doudi25/Triton/blob/main/Diffusion_Forward_Process.ipynb\" target=\"_parent\"><img src=\"https://colab.research.google.com/assets/colab-badge.svg\" alt=\"Open In Colab\"/></a>"
      ]
    },
    {
      "cell_type": "code",
      "execution_count": 21,
      "metadata": {
        "id": "ZPIgfEykQI8U"
      },
      "outputs": [],
      "source": [
        "import torch\n",
        "from torch import nn\n",
        "import triton\n",
        "import triton.language as tl\n",
        "import torchvision\n",
        "import torchvision.transforms as transforms\n",
        "from torch.utils.data import DataLoader\n",
        "import matplotlib.pyplot as plt"
      ]
    },
    {
      "cell_type": "code",
      "source": [
        "transform = transforms.Compose([\n",
        "    transforms.ToTensor(),\n",
        "    transforms.Normalize((0.5,), (0.5,))\n",
        "])\n",
        "mnist_dataset = torchvision.datasets.MNIST(\n",
        "    root='./data',\n",
        "    train=True,\n",
        "    transform=transform,\n",
        "    download=True\n",
        ")\n",
        "dataloader = DataLoader(mnist_dataset, batch_size=32, shuffle=True)\n"
      ],
      "metadata": {
        "id": "OPX5QM5jaAm7"
      },
      "execution_count": 22,
      "outputs": []
    },
    {
      "cell_type": "code",
      "source": [
        "@triton.jit\n",
        "def forward_process_kernel(img_ptr,noise_ptr,noisy_ptr,ap_ptr,stride_ib,stride_ic,stride_im,\n",
        "                           bs,c,h,w,BLOCK_SIZE_ROW:tl.constexpr,BLOCK_SIZE_COL:tl.constexpr,num_warps=8):\n",
        "  batch_id = tl.program_id(axis=0)\n",
        "  channel_id = tl.program_id(axis=1)\n",
        "  pid_3 = tl.program_id(axis=2)\n",
        "  num_pid_n = tl.cdiv(w,BLOCK_SIZE_COL)\n",
        "  pid_row = pid_3 // num_pid_n\n",
        "  pid_col = pid_3 %  num_pid_n\n",
        "  offs_row = pid_row * BLOCK_SIZE_ROW + tl.arange(0,BLOCK_SIZE_ROW)\n",
        "  offs_col = pid_col * BLOCK_SIZE_COL + tl.arange(0,BLOCK_SIZE_COL)\n",
        "  mask = (offs_row[:,None] < h) & (offs_col[None,:] < w)\n",
        "  img_ptrs = img_ptr + batch_id * stride_ib + channel_id * stride_ic + offs_row[:,None] * stride_im + offs_col[None,:]\n",
        "  noise_ptrs = noise_ptr + batch_id * stride_ib + channel_id * stride_ic + offs_row[:,None] * stride_im + offs_col[None,:]\n",
        "  img_chunk = tl.load(img_ptrs,mask=mask,other=0.0)\n",
        "  noise_chunk = tl.load(noise_ptrs,mask=mask,other=0.0)\n",
        "  alphaprod = tl.load(ap_ptr)\n",
        "  noisy = img_chunk * tl.sqrt(alphaprod) + tl.sqrt(1-alphaprod) * noise_chunk\n",
        "  noisy_ptrs = noisy_ptr + batch_id * stride_ib + channel_id * stride_ic + offs_row[:,None] * stride_im + offs_col[None,:]\n",
        "  tl.store(noisy_ptrs,noisy,mask=mask)\n"
      ],
      "metadata": {
        "id": "Bd7EisL6XBEk"
      },
      "execution_count": 26,
      "outputs": []
    },
    {
      "cell_type": "code",
      "source": [
        "def forward_process(image:torch.tensor,t:int):\n",
        "  beta = torch.linspace(1e-4,0.02,1000).to('cuda')\n",
        "  alpha = 1-beta\n",
        "  alphaprod = torch.cumprod(alpha,dim=0)\n",
        "  bs,c,h,w = image.shape\n",
        "  noisy_image = torch.empty_like(image,device=image.device,dtype=image.dtype)\n",
        "  noise = torch.randn_like(image)\n",
        "  BLOCK_SIZE_ROW = 16\n",
        "  BLOCK_SIZE_COL = 16\n",
        "  grid = (bs,c,(triton.cdiv(h,BLOCK_SIZE_ROW)*triton.cdiv(w,BLOCK_SIZE_COL)))\n",
        "  forward_process_kernel[grid](image,noise,noisy_image,alphaprod[t],image.stride(0),image.stride(1),image.stride(2),\n",
        "                               bs,c,h,w,BLOCK_SIZE_ROW,BLOCK_SIZE_COL)\n",
        "  return noisy_image\n",
        "\n"
      ],
      "metadata": {
        "id": "F7d53hRgT7yK"
      },
      "execution_count": 27,
      "outputs": []
    },
    {
      "cell_type": "code",
      "source": [
        "images, _ = next(iter(dataloader))  # Get the first batch, ignore labels\n",
        "images = images.to('cuda')\n",
        "\n",
        "noisy_images = forward_process(images, 600)  # Generate noisy version\n",
        "\n",
        "images = images.cpu() * 0.5 + 0.5  # Denormalize: reverse (0.5, 0.5) normalization\n",
        "noisy_images = noisy_images.cpu() * 0.5 + 0.5  # Denormalize noisy images\n",
        "\n",
        "plt.figure(figsize=(8, 4))\n",
        "\n",
        "# Original image\n",
        "plt.subplot(1, 2, 1)\n",
        "plt.imshow(images[0].squeeze(), cmap='gray')\n",
        "plt.title(\"Original Image\")\n",
        "plt.axis('off')\n",
        "\n",
        "# Noisy image\n",
        "plt.subplot(1, 2, 2)\n",
        "plt.imshow(noisy_images[0].squeeze(), cmap='gray')\n",
        "plt.title(\"Noisy Image (t=600)\")\n",
        "plt.axis('off')\n",
        "\n",
        "plt.tight_layout()\n",
        "plt.show()"
      ],
      "metadata": {
        "colab": {
          "base_uri": "https://localhost:8080/",
          "height": 420
        },
        "id": "78J3Mk6jZVNU",
        "outputId": "fc302b8d-801c-4310-ba6e-5cb852254cbd"
      },
      "execution_count": 28,
      "outputs": [
        {
          "output_type": "display_data",
          "data": {
            "text/plain": [
              "<Figure size 800x400 with 2 Axes>"
            ],
            "image/png": "[encoded data removed]"
          },
          "metadata": {}
        }
      ]
    },
    {
      "cell_type": "code",
      "source": [],
      "metadata": {
        "id": "DCA2YqHhbGgy"
      },
      "execution_count": null,
      "outputs": []
    }
  ]
}