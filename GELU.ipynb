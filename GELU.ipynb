{
  "nbformat": 4,
  "nbformat_minor": 0,
  "metadata": {
    "colab": {
      "provenance": [],
      "gpuType": "T4",
      "authorship_tag": "ABX9TyNGH6AGncIzLxTcMBOwreHZ",
      "include_colab_link": true
    },
    "kernelspec": {
      "name": "python3",
      "display_name": "Python 3"
    },
    "language_info": {
      "name": "python"
    },
    "accelerator": "GPU"
  },
  "cells": [
    {
      "cell_type": "markdown",
      "metadata": {
        "id": "view-in-github",
        "colab_type": "text"
      },
      "source": [
        "<a href=\"https://colab.research.google.com/github/doudi25/Triton/blob/main/GELU.ipynb\" target=\"_parent\"><img src=\"https://colab.research.google.com/assets/colab-badge.svg\" alt=\"Open In Colab\"/></a>"
      ]
    },
    {
      "cell_type": "code",
      "execution_count": null,
      "metadata": {
        "id": "dQmTxEX_aW5g"
      },
      "outputs": [],
      "source": [
        "import torch\n",
        "import triton\n",
        "import triton.language as tl"
      ]
    },
    {
      "cell_type": "code",
      "source": [
        "@triton.jit\n",
        "def tanh(x):\n",
        "    exp_x = tl.exp(x)\n",
        "    exp_neg_x = 1.0 / exp_x\n",
        "    return (exp_x - exp_neg_x) / (exp_x + exp_neg_x)"
      ],
      "metadata": {
        "id": "e0yzn2hoe-uX"
      },
      "execution_count": null,
      "outputs": []
    },
    {
      "cell_type": "code",
      "source": [
        "PI = 3.141592653589793\n",
        "@triton.jit\n",
        "def forward_kernel(x_ptr,out_ptr,stride_m,stride_n,m,n,PI,BLOCK_SIZE_ROW:tl.constexpr,BLOCK_SIZE_COL:tl.constexpr,num_warps=64):\n",
        "  pid_m = tl.program_id(axis=0)\n",
        "  pid_n = tl.program_id(axis=1)\n",
        "  offs_m = pid_m * BLOCK_SIZE_ROW + tl.arange(0,BLOCK_SIZE_ROW)\n",
        "  offs_n = pid_n * BLOCK_SIZE_COL + tl.arange(0,BLOCK_SIZE_COL)\n",
        "  mask = (offs_m[:,None] < m ) & (offs_n[None,:] < n)\n",
        "  input_ptrs = x_ptr + offs_m[:,None] * stride_m + offs_n[None,:] * stride_n\n",
        "  x = tl.load(input_ptrs,mask=mask)\n",
        "  out = 0.5 * x * ( 1 + tanh(tl.sqrt(2/PI) * ( x + 0.044715 * x * x * x)))\n",
        "  tl.store(out_ptr + offs_m[:,None] * stride_m + offs_n[None,:] * stride_n,out)\n"
      ],
      "metadata": {
        "id": "ZIL7C0QIcB5S"
      },
      "execution_count": 54,
      "outputs": []
    },
    {
      "cell_type": "code",
      "source": [
        "def _gelu_forward(x:torch.tensor):\n",
        "  assert x.is_cuda and x.is_contiguous()\n",
        "  m,n = x.shape\n",
        "  BLOCK_SIZE_ROW = 32\n",
        "  BLOCK_SIZE_COL = 64\n",
        "  out = torch.empty_like(x,device=x.device,dtype=x.dtype)\n",
        "  grid = (triton.cdiv(m,BLOCK_SIZE_ROW),triton.cdiv(n,BLOCK_SIZE_COL))\n",
        "  forward_kernel[grid](x,out,x.stride(0),x.stride(1),m,n,PI,BLOCK_SIZE_ROW,BLOCK_SIZE_COL)\n",
        "  return out"
      ],
      "metadata": {
        "id": "F1qUgvdaagPC"
      },
      "execution_count": 55,
      "outputs": []
    },
    {
      "cell_type": "code",
      "source": [
        "input = torch.rand((1024,1024),device='cuda')\n",
        "out = torch.nn.functional.gelu(input)\n",
        "out_triton = _gelu_forward(input)"
      ],
      "metadata": {
        "id": "Tx-qV00Md9kW"
      },
      "execution_count": 64,
      "outputs": []
    },
    {
      "cell_type": "code",
      "source": [
        "print(torch.allclose(out,out_triton,1e-3))"
      ],
      "metadata": {
        "colab": {
          "base_uri": "https://localhost:8080/"
        },
        "id": "4R0wcyRKeVLE",
        "outputId": "cca19e65-387e-4a72-e88c-cfcfaed90d3c"
      },
      "execution_count": 57,
      "outputs": [
        {
          "output_type": "stream",
          "name": "stdout",
          "text": [
            "True\n"
          ]
        }
      ]
    },
    {
      "cell_type": "code",
      "source": [
        "def benchmark(fn,*arg,warmup=16,steps=64):\n",
        "  start = torch.cuda.Event(enable_timing=True)\n",
        "  end = torch.cuda.Event(enable_timing=True)\n",
        "  for _ in range(warmup):\n",
        "    fn(*arg)\n",
        "  torch.cuda.synchronize()\n",
        "  start.record()\n",
        "  for _ in range(steps):\n",
        "    fn(*arg)\n",
        "  end.record()\n",
        "  torch.cuda.synchronize()\n",
        "  return start.elapsed_time(end)/steps"
      ],
      "metadata": {
        "id": "GvTn3Ns6gs0t"
      },
      "execution_count": 58,
      "outputs": []
    },
    {
      "cell_type": "code",
      "source": [
        "time_triton = benchmark(_gelu_forward,input)\n",
        "time_torch = benchmark(torch.nn.functional.gelu,input)"
      ],
      "metadata": {
        "id": "rNTiZHunhTvJ"
      },
      "execution_count": 65,
      "outputs": []
    },
    {
      "cell_type": "code",
      "source": [
        "print(f'triton_time is {time_triton:.4f} ms ')\n",
        "print(f'torch_time i s {time_torch:.4f} ms')"
      ],
      "metadata": {
        "colab": {
          "base_uri": "https://localhost:8080/"
        },
        "id": "KVCO_Z3ZhmZx",
        "outputId": "e4fc219f-e626-4408-f32e-5ae57c8e6dd3"
      },
      "execution_count": 67,
      "outputs": [
        {
          "output_type": "stream",
          "name": "stdout",
          "text": [
            "triton_time is 0.0480 ms \n",
            "torch_time i s 0.0368 ms\n"
          ]
        }
      ]
    }
  ]
}