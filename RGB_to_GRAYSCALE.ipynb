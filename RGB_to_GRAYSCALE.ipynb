{
  "nbformat": 4,
  "nbformat_minor": 0,
  "metadata": {
    "colab": {
      "provenance": [],
      "gpuType": "T4",
      "include_colab_link": true
    },
    "kernelspec": {
      "name": "python3",
      "display_name": "Python 3"
    },
    "language_info": {
      "name": "python"
    },
    "accelerator": "GPU"
  },
  "cells": [
    {
      "cell_type": "markdown",
      "metadata": {
        "id": "view-in-github",
        "colab_type": "text"
      },
      "source": [
        "<a href=\"https://colab.research.google.com/github/doudi25/Triton/blob/main/RGB_to_GRAYSCALE.ipynb\" target=\"_parent\"><img src=\"https://colab.research.google.com/assets/colab-badge.svg\" alt=\"Open In Colab\"/></a>"
      ]
    },
    {
      "cell_type": "code",
      "execution_count": 1,
      "metadata": {
        "id": "zGmGtmtojY9Q"
      },
      "outputs": [],
      "source": [
        "import triton\n",
        "import triton.language as tl\n",
        "import torch\n",
        "device = 'cuda' if torch.cuda.is_available() else 'cpu'"
      ]
    },
    {
      "cell_type": "code",
      "source": [
        "@triton.jit\n",
        "def rgb_kernel(image_ptr,result_ptr,n_elements,stride_ab,BLOCK_SIZE:tl.constexpr):\n",
        "  # program id\n",
        "  pid = tl.program_id(axis=0)\n",
        "  # compute program_id\n",
        "  block_id = pid * BLOCK_SIZE\n",
        "  # assign the offset\n",
        "  offsets = block_id + tl.arange(0,BLOCK_SIZE)\n",
        "  # red_pointers to load the values correspending to red grid\n",
        "  r_ptr = image_ptr + offsets\n",
        "  # green_pointers are calculating by jumping to the next grid using the stride wich equal to (H*W)\n",
        "  g_ptr = image_ptr + offsets * stride_ab\n",
        "  # blue pointers are calculating by jumping two grids => (H * W * 2 )\n",
        "  b_ptr = image_ptr + offsets * 2 * stride_ab\n",
        "  # assign the mask\n",
        "  mask = offsets < n_elements\n",
        "  # load the red , green , blue values\n",
        "  red = tl.load(r_ptr,mask=mask)\n",
        "  green = tl.load(g_ptr,mask=mask)\n",
        "  blue = tl.load(b_ptr,mask=mask)\n",
        "  # converting rgb to gray_scale using the following formula\n",
        "  result = 0.299 * red + 0.587 * green + 0.114 * blue\n",
        "  # store result\n",
        "  tl.store(result_ptr + offsets,result,mask=mask)"
      ],
      "metadata": {
        "id": "S169rAh3jzJ7"
      },
      "execution_count": 2,
      "outputs": []
    },
    {
      "cell_type": "code",
      "source": [
        "\n",
        "def convert_rgb_to_gray(image):\n",
        "  # assert that the image is rgb\n",
        "  assert image.ndim == 3 and image.shape[0] == 3\n",
        "  # assert contiguouty\n",
        "  c , h , w = image.shape\n",
        "  # pointing output tensor in the memory\n",
        "  result = torch.empty((h,w),device='cuda')\n",
        "  n_elements = int(h * w)\n",
        "  # grid configuration\n",
        "  grid = lambda meta: (triton.cdiv(n_elements,meta['BLOCK_SIZE']),)\n",
        "  # launch the kernel\n",
        "  rgb_kernel[grid](image,result,n_elements,image.stride(0),BLOCK_SIZE=1024)\n",
        "  # add batch dim\n",
        "  return result.unsqueeze(0)\n"
      ],
      "metadata": {
        "id": "xVy7ohXDjdpt"
      },
      "execution_count": 3,
      "outputs": []
    },
    {
      "cell_type": "code",
      "source": [
        "from torchvision.io import read_image"
      ],
      "metadata": {
        "id": "ddbhxD_1jgcK"
      },
      "execution_count": 4,
      "outputs": []
    },
    {
      "cell_type": "code",
      "source": [
        "image = read_image('/content/renaming.png').type(torch.float32)\n",
        "image = image.to('cuda')\n",
        "result = convert_rgb_to_gray(image)\n"
      ],
      "metadata": {
        "id": "EgGu-M6NjypD"
      },
      "execution_count": 7,
      "outputs": []
    }
  ]
}