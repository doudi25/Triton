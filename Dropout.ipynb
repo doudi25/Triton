{
  "nbformat": 4,
  "nbformat_minor": 0,
  "metadata": {
    "colab": {
      "provenance": [],
      "gpuType": "T4",
      "authorship_tag": "ABX9TyOslN5+Yt1vTknHXWyXxGyr",
      "include_colab_link": true
    },
    "kernelspec": {
      "name": "python3",
      "display_name": "Python 3"
    },
    "language_info": {
      "name": "python"
    },
    "accelerator": "GPU"
  },
  "cells": [
    {
      "cell_type": "markdown",
      "metadata": {
        "id": "view-in-github",
        "colab_type": "text"
      },
      "source": [
        "<a href=\"https://colab.research.google.com/github/doudi25/Triton/blob/main/Dropout.ipynb\" target=\"_parent\"><img src=\"https://colab.research.google.com/assets/colab-badge.svg\" alt=\"Open In Colab\"/></a>"
      ]
    },
    {
      "cell_type": "code",
      "source": [
        "import torch\n",
        "import triton\n",
        "import triton.language as tl\n"
      ],
      "metadata": {
        "id": "YcD9ojvOA-EO"
      },
      "execution_count": 5,
      "outputs": []
    },
    {
      "cell_type": "code",
      "source": [
        "@triton.autotune(configs=[\n",
        "    triton.Config({'BLOCK_SIZE_M':64,'BLOCK_SIZE_N':64},num_warps=4,num_stages=2),\n",
        "    triton.Config({'BLOCK_SIZE_M':128,'BLOCK_SIZE_N':128},num_warps=8,num_stages=2)],\n",
        "    key=['m','n'] )\n",
        "@triton.jit\n",
        "def dropout_kernel(input_ptr,mask_ptr,out_ptr,stride_m,stride_n,m,n,pb,BLOCK_SIZE_M:tl.constexpr,BLOCK_SIZE_N:tl.constexpr):\n",
        "  pid_m = tl.program_id(axis=0)\n",
        "  pid_n = tl.program_id(axis=1)\n",
        "  offset_m = pid_m * BLOCK_SIZE_M + tl.arange(0,BLOCK_SIZE_M)\n",
        "  offset_n = pid_n * BLOCK_SIZE_N + tl.arange(0,BLOCK_SIZE_N)\n",
        "  mask = (offset_m[:,None] < m) & (offset_n[None,:] < n)\n",
        "  offset_m = offset_m[:,None] * stride_m\n",
        "  offset_n = offset_n[None,:] * stride_n\n",
        "  input = tl.load(input_ptr+offset_m+offset_n,mask=mask,other=0.0)\n",
        "  masked = tl.load(mask_ptr+offset_m+offset_n,mask=mask,other=1.0)\n",
        "  out= tl.where(masked<pb,0.0,input)\n",
        "  out = out /(1-pb)\n",
        "  tl.store(out_ptr+offset_m+offset_n,out)\n",
        ""
      ],
      "metadata": {
        "id": "78Z7pfctCxIA"
      },
      "execution_count": 20,
      "outputs": []
    },
    {
      "cell_type": "code",
      "source": [
        "torch.manual_seed(42)\n",
        "def triton_dropout(input:torch.tensor,pb:float):\n",
        "  assert input.is_cuda\n",
        "  assert isinstance(pb,float)\n",
        "  m,n = input.shape\n",
        "  mask = torch.rand_like(input,device=input.device,dtype=input.dtype)\n",
        "  out = torch.empty_like(input,device=input.device,dtype=input.dtype)\n",
        "  grid = lambda meta: (triton.cdiv(m,meta['BLOCK_SIZE_M']),triton.cdiv(n,meta['BLOCK_SIZE_N']))\n",
        "  dropout_kernel[grid](input,mask,out,input.stride(0),input.stride(1),m,n,pb)\n",
        "  return out"
      ],
      "metadata": {
        "id": "A_0DmbJaBCfO"
      },
      "execution_count": 21,
      "outputs": []
    },
    {
      "cell_type": "code",
      "source": [
        "input = torch.randn((1024,2048),device='cuda')\n",
        "out = triton_dropout(input,0.8)"
      ],
      "metadata": {
        "id": "5cVvJS7_FLFu"
      },
      "execution_count": 22,
      "outputs": []
    }
  ]
}