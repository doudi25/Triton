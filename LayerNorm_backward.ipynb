{
  "nbformat": 4,
  "nbformat_minor": 0,
  "metadata": {
    "colab": {
      "provenance": [],
      "gpuType": "T4",
      "authorship_tag": "ABX9TyO/NfVLFWUPv6ekqa18+pg7",
      "include_colab_link": true
    },
    "kernelspec": {
      "name": "python3",
      "display_name": "Python 3"
    },
    "language_info": {
      "name": "python"
    },
    "accelerator": "GPU"
  },
  "cells": [
    {
      "cell_type": "markdown",
      "metadata": {
        "id": "view-in-github",
        "colab_type": "text"
      },
      "source": [
        "<a href=\"https://colab.research.google.com/github/doudi25/Triton/blob/main/LayerNorm_backward.ipynb\" target=\"_parent\"><img src=\"https://colab.research.google.com/assets/colab-badge.svg\" alt=\"Open In Colab\"/></a>"
      ]
    },
    {
      "cell_type": "code",
      "execution_count": 1,
      "metadata": {
        "id": "WPRl1OdDHicR"
      },
      "outputs": [],
      "source": [
        "import torch\n",
        "import triton\n",
        "import triton.language as tl\n"
      ]
    },
    {
      "cell_type": "code",
      "source": [
        "# built custom layer of layernorm to save mean and var\n",
        "class Custom_LayerNorm(torch.nn.LayerNorm):\n",
        "  def forward(self,x :torch.tensor):\n",
        "    self.mean = x.mean(dim=1)\n",
        "    self.var = x.var(dim=1)\n",
        "    return super().forward(x)\n"
      ],
      "metadata": {
        "id": "71zHMbBvOL9K"
      },
      "execution_count": 104,
      "outputs": []
    },
    {
      "cell_type": "code",
      "source": [
        "@triton.jit\n",
        "def _backward_kernel(dout_ptr,x_ptr,dgamma_ptr,dbias_ptr,mean_ptr,var_ptr,stride_m,\n",
        "                     stride_n,m,n,eps,BLOCK_SIZE_ROW:tl.constexpr,BLOCK_SIZE_COL:tl.constexpr,num_warps=16):\n",
        "  pid_m = tl.program_id(axis=0)\n",
        "  pid_n = tl.program_id(axis=1)\n",
        "  # assign offs_m and offs_n\n",
        "  offs_m = pid_m * BLOCK_SIZE_ROW + tl.arange(0,BLOCK_SIZE_ROW)\n",
        "  offs_n = pid_n * BLOCK_SIZE_COL + tl.arange(0,BLOCK_SIZE_COL)\n",
        "  # assign mask\n",
        "  mask = (offs_m[:,None] < m) & (offs_n[None,:] < n)\n",
        "  # assign input_ptrs , dout_ptrs\n",
        "  input_ptrs = x_ptr + offs_m[:,None] * stride_m + offs_n[None,:] * stride_n\n",
        "  input = tl.load(input_ptrs,mask=mask)\n",
        "  dout_ptrs = dout_ptr + offs_m[:,None] * stride_m + offs_n[None,:] * stride_n\n",
        "  dout = tl.load(dout_ptrs,mask=mask)\n",
        "  # load mean and var with offs_m ( have shape of  m,)\n",
        "  mean = tl.load(mean_ptr+offs_m,mask=offs_m < m)\n",
        "  mean = tl.reshape(mean,(BLOCK_SIZE_ROW,1))\n",
        "  var = tl.load(var_ptr+offs_m,mask=offs_m < m)\n",
        "  var = tl.reshape(var,(BLOCK_SIZE_ROW,1))\n",
        "  # calculate the normalized version of x\n",
        "  x_norm = (input - mean) * tl.rsqrt(var+eps)\n",
        "  # dgamma is = xnorm * dout and then summing across the first dim\n",
        "  dgamma = tl.sum((x_norm * dout),axis=0)\n",
        "  # dbias is = dout * ones_like(dout) and summing across the first dim -> (ones_like can be neglected since a * 1 = a )\n",
        "  dbias = tl.sum(dout,axis=0)\n",
        "  # perform atomic addition\n",
        "  tl.atomic_add(dgamma_ptr + offs_n,dgamma,mask=offs_n < n)\n",
        "  tl.atomic_add(dbias_ptr + offs_n,dbias,mask=offs_n < n)"
      ],
      "metadata": {
        "id": "0BtA8uCPQuPT"
      },
      "execution_count": 145,
      "outputs": []
    },
    {
      "cell_type": "code",
      "source": [
        "def _LayerNorm_backward(dout:torch.tensor,x: torch.tensor, mean:torch.tensor,var:torch.tensor,eps:float):\n",
        "  assert x.is_cuda and x.is_contiguous()\n",
        "  dout = dout.contiguous()\n",
        "  assert dout.shape == x.shape\n",
        "  m,n = x.shape\n",
        "  dgamma = torch.zeros(x.shape[1],device=x.device,dtype=x.dtype)\n",
        "  dbias =  torch.zeros(x.shape[1],device=x.device,dtype=x.dtype)\n",
        "  BLOCK_SIZE_ROW = 32\n",
        "  BLOCK_SIZE_COL = 32\n",
        "  grid = (triton.cdiv(m,BLOCK_SIZE_ROW),triton.cdiv(n,BLOCK_SIZE_COL))\n",
        "  _backward_kernel[grid](dout,x,dgamma,dbias,mean,var,x.stride(0),x.stride(1),\n",
        "                         m,n,eps,BLOCK_SIZE_ROW,BLOCK_SIZE_COL)\n",
        "  return dbias , dgamma"
      ],
      "metadata": {
        "id": "nBsskHSZLSKp"
      },
      "execution_count": 212,
      "outputs": []
    },
    {
      "cell_type": "code",
      "source": [
        "layer = Custom_LayerNorm(768,device='cuda')\n",
        "input = torch.rand((768,768),device='cuda')\n",
        "out = layer(input)\n",
        "# summing out element and do backprop gives us dout = ones_like(out) -> the same if we use autograd.grad\n",
        "loss = out.sum()\n",
        "loss.backward()"
      ],
      "metadata": {
        "id": "kLFNrM3tS0ah"
      },
      "execution_count": 228,
      "outputs": []
    },
    {
      "cell_type": "code",
      "source": [
        "dbias,dgamma = _LayerNorm_backward(torch.ones_like(input),input,layer.mean,layer.var,layer.eps)"
      ],
      "metadata": {
        "id": "_GxCzKi1TdRR"
      },
      "execution_count": 229,
      "outputs": []
    },
    {
      "cell_type": "code",
      "source": [
        "print(torch.allclose(dbias,layer.bias.grad))\n",
        "# maybe you get false of gamma grad due to numerical stability\n",
        "print(torch.allclose(dgamma,layer.weight.grad,1e-3))"
      ],
      "metadata": {
        "colab": {
          "base_uri": "https://localhost:8080/"
        },
        "id": "kBfuFdgkZB9b",
        "outputId": "55b1ec35-a07d-488a-bae7-f576cf86393a"
      },
      "execution_count": 230,
      "outputs": [
        {
          "output_type": "stream",
          "name": "stdout",
          "text": [
            "True\n",
            "True\n"
          ]
        }
      ]
    }
  ]
}