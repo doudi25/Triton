{
  "nbformat": 4,
  "nbformat_minor": 0,
  "metadata": {
    "colab": {
      "provenance": [],
      "gpuType": "T4",
      "authorship_tag": "ABX9TyNYo4/ODh4XBtfko/tT9Yjz",
      "include_colab_link": true
    },
    "kernelspec": {
      "name": "python3",
      "display_name": "Python 3"
    },
    "language_info": {
      "name": "python"
    },
    "accelerator": "GPU"
  },
  "cells": [
    {
      "cell_type": "markdown",
      "metadata": {
        "id": "view-in-github",
        "colab_type": "text"
      },
      "source": [
        "<a href=\"https://colab.research.google.com/github/doudi25/Triton/blob/main/Mish.ipynb\" target=\"_parent\"><img src=\"https://colab.research.google.com/assets/colab-badge.svg\" alt=\"Open In Colab\"/></a>"
      ]
    },
    {
      "cell_type": "code",
      "execution_count": 68,
      "metadata": {
        "id": "xefe7Kq1x7R6"
      },
      "outputs": [],
      "source": [
        "import torch\n",
        "import triton\n",
        "import triton.language as tl"
      ]
    },
    {
      "cell_type": "code",
      "source": [
        "@triton.jit\n",
        "def tanh(x):\n",
        "    exp_x = tl.exp(x)\n",
        "    exp_neg_x = 1.0 / exp_x\n",
        "    return (exp_x - exp_neg_x) / (exp_x + exp_neg_x)\n",
        "@triton.jit\n",
        "def softplus(x):\n",
        "  return tl.log(1+tl.exp(x))"
      ],
      "metadata": {
        "id": "47DLqrfmyYTG"
      },
      "execution_count": 69,
      "outputs": []
    },
    {
      "cell_type": "code",
      "source": [
        "@triton.jit\n",
        "def forward_kernel(x_ptr,out_ptr,stride_m,stride_n,m,n,BLOCK_SIZE_ROW:tl.constexpr,BLOCK_SIZE_COL:tl.constexpr,num_warps=64):\n",
        "  pid_m = tl.program_id(axis=0)\n",
        "  pid_n = tl.program_id(axis=1)\n",
        "  offs_m = pid_m * BLOCK_SIZE_ROW + tl.arange(0,BLOCK_SIZE_ROW)\n",
        "  offs_n = pid_n * BLOCK_SIZE_COL + tl.arange(0,BLOCK_SIZE_COL)\n",
        "  mask = (offs_m[:,None] < m) & (offs_n[None,:] < n)\n",
        "  input_ptrs = x_ptr + offs_m[:,None] * stride_m + offs_n[None,:] * stride_n\n",
        "  x = tl.load(input_ptrs,mask=mask)\n",
        "  out = x * tanh(softplus(x))\n",
        "  tl.store(out_ptr + offs_m[:,None] * stride_m + offs_n[None,:] * stride_n,out)\n"
      ],
      "metadata": {
        "id": "Z5FfpvOOy2cN"
      },
      "execution_count": 70,
      "outputs": []
    },
    {
      "cell_type": "code",
      "source": [
        "def _mish_forward(x:torch.tensor):\n",
        "  assert x.is_cuda and x.is_contiguous()\n",
        "  m,n = x.shape\n",
        "  BLOCK_SIZE_ROW = 32\n",
        "  BLOCK_SIZE_COL = 64\n",
        "  out = torch.empty_like(x,device=x.device,dtype=x.dtype)\n",
        "  grid = (triton.cdiv(m,BLOCK_SIZE_ROW),triton.cdiv(n,BLOCK_SIZE_COL))\n",
        "  forward_kernel[grid](x,out,x.stride(0),x.stride(1),m,n,BLOCK_SIZE_ROW,BLOCK_SIZE_COL)\n",
        "  return out"
      ],
      "metadata": {
        "id": "nxho3LImyqwG"
      },
      "execution_count": 71,
      "outputs": []
    },
    {
      "cell_type": "code",
      "source": [
        "@triton.jit\n",
        "def backward_kernel(x_ptr,din_ptr,dout_ptr,stride_m,stride_n,m,n,\n",
        "                    BLOCK_SIZE_ROW:tl.constexpr,BLOCK_SIZE_COL:tl.constexpr,num_warps=64):\n",
        "  pid_m = tl.program_id(axis=0)\n",
        "  pid_n = tl.program_id(axis=1)\n",
        "  offs_m = pid_m * BLOCK_SIZE_ROW + tl.arange(0,BLOCK_SIZE_ROW)\n",
        "  offs_n = pid_n * BLOCK_SIZE_COL + tl.arange(0,BLOCK_SIZE_COL)\n",
        "  mask = (offs_m[:,None] < m) & (offs_n[None,:] < n)\n",
        "  input_ptrs = x_ptr + offs_m[:,None] * stride_m + offs_n[None,:] * stride_n\n",
        "  x = tl.load(input_ptrs,mask=mask)\n",
        "  dout_ptrs = dout_ptr + offs_m[:,None] * stride_m + offs_n[None,:] * stride_n\n",
        "  dout = tl.load(dout_ptrs,mask=mask)\n",
        "  tanh_sp = tanh(softplus(x))\n",
        "  comp = x * (1 - tanh_sp*tanh_sp) * tl.sigmoid(x)\n",
        "  din = tanh_sp + comp\n",
        "  tl.store(din_ptr + offs_m[:,None] * stride_m + offs_n[None,:] * stride_n,din)"
      ],
      "metadata": {
        "id": "SXM_jw0k0vfi"
      },
      "execution_count": 89,
      "outputs": []
    },
    {
      "cell_type": "code",
      "source": [
        "def _mish_backward(x:torch.tensor,dout:torch.tensor):\n",
        "  assert x.is_cuda and x.is_contiguous()\n",
        "  assert dout.is_cuda\n",
        "  dout = dout.contiguous()\n",
        "  m,n = x.shape\n",
        "  BLOCK_SIZE_ROW = 32\n",
        "  BLOCK_SIZE_COL = 64\n",
        "  din = torch.empty_like(x,device=x.device,dtype=x.dtype)\n",
        "  grid = (triton.cdiv(m,BLOCK_SIZE_ROW),triton.cdiv(n,BLOCK_SIZE_COL))\n",
        "  backward_kernel[grid](x,din,dout,x.stride(0),x.stride(1),m,n,BLOCK_SIZE_ROW,BLOCK_SIZE_COL)\n",
        "  return din"
      ],
      "metadata": {
        "id": "FDDihn9Q0iRN"
      },
      "execution_count": 90,
      "outputs": []
    },
    {
      "cell_type": "code",
      "source": [
        "class Mish(torch.autograd.Function):\n",
        "  @staticmethod\n",
        "  def forward(ctx,input):\n",
        "    ctx.save_for_backward(input)\n",
        "    out = _mish_forward(input)\n",
        "    return out\n",
        "  @staticmethod\n",
        "  def backward(ctx,dout):\n",
        "    input = ctx.saved_tensors[0]\n",
        "    dinput = _mish_backward(input,dout)\n",
        "    return dinput"
      ],
      "metadata": {
        "id": "o2zGyMBuZw2T"
      },
      "execution_count": 91,
      "outputs": []
    },
    {
      "cell_type": "code",
      "source": [
        "input = torch.rand((128,128),device='cuda',dtype=torch.float32,requires_grad=True)\n",
        "out = Mish.apply(input)\n",
        "loss = out.mean()\n",
        "loss.backward()\n",
        "triton_grad,input.grad = input.grad,None\n",
        "out_torch = torch.nn.functional.mish(input)\n",
        "loss1 = out_torch.mean()\n",
        "loss1.backward()\n",
        "torch_grad = input.grad"
      ],
      "metadata": {
        "id": "f_EPMf7rddVv"
      },
      "execution_count": 96,
      "outputs": []
    },
    {
      "cell_type": "code",
      "source": [
        "print(torch.allclose(input_grad,grad_torch))"
      ],
      "metadata": {
        "colab": {
          "base_uri": "https://localhost:8080/"
        },
        "id": "nPumjMzTfO66",
        "outputId": "46391fba-12be-44ba-8ccf-dd64b6062814"
      },
      "execution_count": 97,
      "outputs": [
        {
          "output_type": "stream",
          "name": "stdout",
          "text": [
            "True\n"
          ]
        }
      ]
    }
  ]
}