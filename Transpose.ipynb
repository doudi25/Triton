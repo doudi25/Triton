{
  "nbformat": 4,
  "nbformat_minor": 0,
  "metadata": {
    "colab": {
      "provenance": [],
      "gpuType": "T4",
      "authorship_tag": "ABX9TyNgic2JvOn4lx7NOQsLehg+",
      "include_colab_link": true
    },
    "kernelspec": {
      "name": "python3",
      "display_name": "Python 3"
    },
    "language_info": {
      "name": "python"
    },
    "accelerator": "GPU"
  },
  "cells": [
    {
      "cell_type": "markdown",
      "metadata": {
        "id": "view-in-github",
        "colab_type": "text"
      },
      "source": [
        "<a href=\"https://colab.research.google.com/github/doudi25/Triton/blob/main/Transpose.ipynb\" target=\"_parent\"><img src=\"https://colab.research.google.com/assets/colab-badge.svg\" alt=\"Open In Colab\"/></a>"
      ]
    },
    {
      "cell_type": "code",
      "execution_count": 1,
      "metadata": {
        "id": "Mffx5IL8EQmj"
      },
      "outputs": [],
      "source": [
        "import torch\n",
        "import triton\n",
        "import triton.language as tl"
      ]
    },
    {
      "cell_type": "code",
      "source": [
        "import triton\n",
        "import triton.language as tl\n",
        "\n",
        "@triton.autotune(\n",
        "    configs=[\n",
        "        triton.Config({'BLOCK_SIZE_M': 128, 'BLOCK_SIZE_N': 128}, num_warps=4, num_stages=2),\n",
        "        triton.Config({'BLOCK_SIZE_M': 256, 'BLOCK_SIZE_N': 128}, num_warps=4, num_stages=2),\n",
        "        triton.Config({'BLOCK_SIZE_M': 128, 'BLOCK_SIZE_N': 256}, num_warps=4, num_stages=2),\n",
        "        triton.Config({'BLOCK_SIZE_M': 256, 'BLOCK_SIZE_N': 256}, num_warps=8, num_stages=2),\n",
        "        triton.Config({'BLOCK_SIZE_M': 64, 'BLOCK_SIZE_N': 64}, num_warps=2, num_stages=1),\n",
        "    ],\n",
        "    key=['m', 'n'] )\n",
        "@triton.jit\n",
        "def transpose_kernel(A_ptr,out_ptr,stride_am,stride_an,stride_om,stride_on,m,n,BLOCK_SIZE_M:tl.constexpr,BLOCK_SIZE_N:tl.constexpr):\n",
        "  pid_m = tl.program_id(axis=0)\n",
        "  pid_n = tl.program_id(axis=1)\n",
        "  offs_m = pid_m * BLOCK_SIZE_M + tl.arange(0,BLOCK_SIZE_M)\n",
        "  offs_n = pid_n * BLOCK_SIZE_N + tl.arange(0,BLOCK_SIZE_N)\n",
        "  mask = (offs_m[:,None] < m) & (offs_n[None,:] < n)\n",
        "  input = tl.load(A_ptr + offs_m[:,None] * stride_am + offs_n[None,:] * stride_an,mask=mask)\n",
        "  in_tr = input.T\n",
        "  out_ptrs = out_ptr + offs_n[:,None] * stride_om + offs_m[None,:] * stride_on\n",
        "  tl.store(out_ptrs,in_tr)"
      ],
      "metadata": {
        "id": "2Yk1osKbETF0"
      },
      "execution_count": 2,
      "outputs": []
    },
    {
      "cell_type": "code",
      "source": [
        "def transpose(A:torch.tensor):\n",
        "  assert A.is_cuda and A.is_contiguous()\n",
        "  m,n = A.shape\n",
        "  out = torch.empty((n,m),device=A.device,dtype=A.dtype)\n",
        "  grid = lambda meta : (triton.cdiv(m,meta['BLOCK_SIZE_M']),triton.cdiv(n,meta['BLOCK_SIZE_N']))\n",
        "  transpose_kernel[grid](A,out,A.stride(0),A.stride(1),out.stride(0),out.stride(1),m,n)\n",
        "  return out"
      ],
      "metadata": {
        "id": "_kosFYSzEUW-"
      },
      "execution_count": 3,
      "outputs": []
    },
    {
      "cell_type": "code",
      "source": [
        "A = torch.randn((1024,1024),device='cuda')"
      ],
      "metadata": {
        "id": "xSxjdlJsEic7"
      },
      "execution_count": 4,
      "outputs": []
    },
    {
      "cell_type": "code",
      "source": [
        "A_tr = A.T\n",
        "B = transpose(A)"
      ],
      "metadata": {
        "id": "paYkyaHrEiyB"
      },
      "execution_count": 8,
      "outputs": []
    },
    {
      "cell_type": "code",
      "source": [
        "print(f'torch transpose is equal to triton tranaspose {torch.allclose(A_tr,B)} \\n')\n",
        "print(f'triton transpose results a contiguous tensor {B.is_contiguous()}\\n')\n",
        "print(f'torch transpose results a contiguous tensor {A_tr.is_contiguous()}')"
      ],
      "metadata": {
        "colab": {
          "base_uri": "https://localhost:8080/"
        },
        "id": "estRRdb1EkXz",
        "outputId": "3d6c87c1-0840-4ced-b2b5-229769b73ad7"
      },
      "execution_count": 10,
      "outputs": [
        {
          "output_type": "stream",
          "name": "stdout",
          "text": [
            "torch transpose is equal to triton tranaspose True \n",
            "\n",
            "triton transpose results a contiguous tensor True\n",
            "\n",
            "torch transpose results a contiguous tensor False\n"
          ]
        }
      ]
    }
  ]
}