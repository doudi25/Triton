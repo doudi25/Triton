{
  "nbformat": 4,
  "nbformat_minor": 0,
  "metadata": {
    "colab": {
      "provenance": [],
      "gpuType": "T4",
      "authorship_tag": "ABX9TyPcf22qxhUwLfu+qktGTqjv",
      "include_colab_link": true
    },
    "kernelspec": {
      "name": "python3",
      "display_name": "Python 3"
    },
    "language_info": {
      "name": "python"
    },
    "accelerator": "GPU"
  },
  "cells": [
    {
      "cell_type": "markdown",
      "metadata": {
        "id": "view-in-github",
        "colab_type": "text"
      },
      "source": [
        "<a href=\"https://colab.research.google.com/github/doudi25/Triton/blob/main/Optimized_Conv2d.ipynb\" target=\"_parent\"><img src=\"https://colab.research.google.com/assets/colab-badge.svg\" alt=\"Open In Colab\"/></a>"
      ]
    },
    {
      "cell_type": "code",
      "execution_count": 1,
      "metadata": {
        "id": "F7dHZMeOqWuC"
      },
      "outputs": [],
      "source": [
        "import torch\n",
        "import triton\n",
        "import triton.language as tl\n"
      ]
    },
    {
      "cell_type": "code",
      "source": [
        "\n",
        "@triton.jit\n",
        "def Conv2d_kernel(\n",
        "    image_ptr,  # Pointer to the input image tensor\n",
        "    kernel_ptr,  # Pointer to the kernel (weight) tensor\n",
        "    bias_ptr,  # Pointer to the bias tensor\n",
        "    output_ptr,  # Pointer to the output tensor\n",
        "    stride_i0,  # Stride for batch dimension in the image\n",
        "    stride_i1,  # Stride for channel dimension in the image\n",
        "    stride_i2,  # Stride for height dimension in the image\n",
        "    stride_i3,  # Stride for width dimension in the image\n",
        "    stride_k0,  # Stride for output channel dimension in the kernel\n",
        "    stride_k1,  # Stride for input channel dimension in the kernel\n",
        "    stride_k2,  # Stride for height dimension in the kernel\n",
        "    stride_k3,  # Stride for width dimension in the kernel\n",
        "    stride_o0,  # Stride for batch dimension in the output\n",
        "    stride_o1,  # Stride for channel dimension in the output\n",
        "    stride_o2,  # Stride for height dimension in the output\n",
        "    stride_o3,  # Stride for width dimension in the output\n",
        "    bs,  # Batch size\n",
        "    c,  # Number of input channels\n",
        "    h,  # Height of the input image\n",
        "    w,  # Width of the input image\n",
        "    n_k,  # Number of output channels (number of kernels)\n",
        "    k_h,  # Height of the kernel\n",
        "    k_w,\n",
        "    BLOCK_SIZE_ROW:tl.constexpr,\n",
        "    BLOCK_SIZE_COL:tl.constexpr,\n",
        "    num_warps=1):\n",
        "  pid_b = tl.program_id(axis=0)\n",
        "  pid_1 = tl.program_id(axis=1)\n",
        "  pid_2 = tl.program_id(axis=2)\n",
        "  pid_k = pid_1 //c\n",
        "  pid_c = pid_1 % c\n",
        "  n_pid_w = w//k_w\n",
        "  pid_h = pid_2 // n_pid_w\n",
        "  pid_w = pid_2 % n_pid_w\n",
        "  row_offs = pid_h * BLOCK_SIZE_ROW + tl.arange(0,BLOCK_SIZE_ROW)\n",
        "  col_offs = pid_w * BLOCK_SIZE_COL + tl.arange(0,BLOCK_SIZE_COL)\n",
        "  mask = (row_offs[:,None] < h) & (col_offs[None,:] < w)\n",
        "  input_ptrs = image_ptr + pid_b * stride_i0 + pid_c * stride_i1 + row_offs[:,None] * stride_i2 + col_offs[None,:] * stride_i3\n",
        "  input = tl.load(input_ptrs,mask=mask)\n",
        "  kernel_row = tl.arange(0,BLOCK_SIZE_ROW)\n",
        "  kernel_col = tl.arange(0,BLOCK_SIZE_COL)\n",
        "  kernel_ptrs = kernel_ptr + pid_c * stride_k0 + pid_c * stride_k1 + kernel_row[:,None] * stride_k2 + kernel_col[None,:] * stride_k3\n",
        "  kernel = tl.load(kernel_ptrs)\n",
        "  bias_ptrs = bias_ptr + pid_k\n",
        "  bias = tl.load(bias_ptrs)\n",
        "  elem = bias\n",
        "  elem += tl.sum(input * kernel)\n",
        "  output_ptrs = output_ptr + pid_b * stride_o0 + pid_k * stride_o1 + pid_h * stride_o2 + pid_w\n",
        "  tl.atomic_add(output_ptrs,elem)"
      ],
      "metadata": {
        "id": "liUy0oo-dE9F"
      },
      "execution_count": 74,
      "outputs": []
    },
    {
      "cell_type": "code",
      "source": [
        "def Conv2d(image:torch.tensor,kernel:torch.tensor,bias:torch.tensor):\n",
        "  assert image.is_cuda and kernel.is_cuda\n",
        "  assert image.is_contiguous()\n",
        "  bs,c,h,w = image.shape\n",
        "  n_k,c,k_h,k_w = kernel.shape\n",
        "  assert h % k_h ==0,w % k_w ==0\n",
        "  output = torch.empty((bs,n_k,h//k_h,w//k_w),device=image.device,dtype=image.dtype)\n",
        "  assert image.numel() % 16 ==0\n",
        "  grid = (bs,n_k * c,(h//k_h)*(w//k_w))\n",
        "  BLOCK_SIZE_ROW = 8\n",
        "  BLOCK_SIZE_COL = 8\n",
        "\n",
        "  Conv2d_kernel[grid](image,kernel,bias,output,image.stride(0),\n",
        "                      image.stride(1),image.stride(2),image.stride(3),\n",
        "                      kernel.stride(0),kernel.stride(1),kernel.stride(2),\n",
        "                      kernel.stride(3),output.stride(0),output.stride(1),\n",
        "                      output.stride(2),output.stride(3),bs,c,h,w,n_k,c,k_h,k_w,\n",
        "                      BLOCK_SIZE_ROW,BLOCK_SIZE_COL)\n",
        "  return out"
      ],
      "metadata": {
        "id": "FycRBj_su15A"
      },
      "execution_count": 75,
      "outputs": []
    },
    {
      "cell_type": "code",
      "source": [
        "image = torch.randn((4,8,32,32),device='cuda',dtype=torch.float32)\n",
        "convlayer = torch.nn.Conv2d(8,16,(8,8),(8,8)).to('cuda')"
      ],
      "metadata": {
        "id": "pc4VSVtPdEJT"
      },
      "execution_count": 96,
      "outputs": []
    },
    {
      "cell_type": "code",
      "source": [
        "out = convlayer(image)\n",
        "print(out.shape)"
      ],
      "metadata": {
        "colab": {
          "base_uri": "https://localhost:8080/"
        },
        "id": "LOFvBagMmKLV",
        "outputId": "dd1e738f-2339-463b-9d2d-6721716d73e1"
      },
      "execution_count": 97,
      "outputs": [
        {
          "output_type": "stream",
          "name": "stdout",
          "text": [
            "torch.Size([4, 16, 4, 4])\n"
          ]
        }
      ]
    },
    {
      "cell_type": "code",
      "source": [
        "out_triton = Conv2d(image,convlayer.weight,convlayer.bias)"
      ],
      "metadata": {
        "id": "Vf1hIPtmmN8M"
      },
      "execution_count": 98,
      "outputs": []
    },
    {
      "cell_type": "code",
      "source": [
        "print(torch.allclose(out,out_triton))"
      ],
      "metadata": {
        "colab": {
          "base_uri": "https://localhost:8080/"
        },
        "id": "vQxqWdkunCfk",
        "outputId": "6d278cce-742e-4309-9471-af2879db19d7"
      },
      "execution_count": 99,
      "outputs": [
        {
          "output_type": "stream",
          "name": "stdout",
          "text": [
            "True\n"
          ]
        }
      ]
    },
    {
      "cell_type": "code",
      "source": [
        "def benchmark(fn,*args,warmup=10,steps=100):\n",
        "  start = torch.cuda.Event(enable_timing=True)\n",
        "  end = torch.cuda.Event(enable_timing=True)\n",
        "  for _ in range(warmup):\n",
        "    fn(*args)\n",
        "  torch.cuda.synchronize()\n",
        "  start.record()\n",
        "  for _ in range(steps):\n",
        "    fn(*args)\n",
        "  end.record()\n",
        "  torch.cuda.synchronize()\n",
        "  return start.elapsed_time(end)/steps\n",
        "triton_time = benchmark(Conv2d,image,convlayer.weight,convlayer.bias)\n",
        "torch_time = benchmark(lambda image: convlayer(image),image)"
      ],
      "metadata": {
        "id": "ihubBNMZnRnE"
      },
      "execution_count": 104,
      "outputs": []
    },
    {
      "cell_type": "code",
      "source": [
        "print(f'time required for the conv2d by triton {triton_time:.4f} ms')\n",
        "print(f'time required for the conv2d by torch {torch_time:.4f} ms')"
      ],
      "metadata": {
        "colab": {
          "base_uri": "https://localhost:8080/"
        },
        "id": "KS_LKWlnoXNd",
        "outputId": "c084ee96-8087-4c36-fdb3-dad76fdd4ace"
      },
      "execution_count": 105,
      "outputs": [
        {
          "output_type": "stream",
          "name": "stdout",
          "text": [
            "time required for the conv2d by triton 0.0889 ms\n",
            "time required for the conv2d by torch 0.2944 ms\n"
          ]
        }
      ]
    }
  ]
}