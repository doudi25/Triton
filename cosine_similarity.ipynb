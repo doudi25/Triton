{
  "nbformat": 4,
  "nbformat_minor": 0,
  "metadata": {
    "colab": {
      "provenance": [],
      "gpuType": "T4",
      "authorship_tag": "ABX9TyMtXzSsVGGjP8ruOpf1BYx2",
      "include_colab_link": true
    },
    "kernelspec": {
      "name": "python3",
      "display_name": "Python 3"
    },
    "language_info": {
      "name": "python"
    },
    "accelerator": "GPU"
  },
  "cells": [
    {
      "cell_type": "markdown",
      "metadata": {
        "id": "view-in-github",
        "colab_type": "text"
      },
      "source": [
        "<a href=\"https://colab.research.google.com/github/doudi25/Triton/blob/main/cosine_similarity.ipynb\" target=\"_parent\"><img src=\"https://colab.research.google.com/assets/colab-badge.svg\" alt=\"Open In Colab\"/></a>"
      ]
    },
    {
      "cell_type": "code",
      "execution_count": 1,
      "metadata": {
        "id": "R-Qf-TZV4VWq"
      },
      "outputs": [],
      "source": [
        "import torch\n",
        "import triton\n",
        "import triton.language as tl"
      ]
    },
    {
      "cell_type": "code",
      "source": [
        "import torch\n",
        "import triton\n",
        "import triton.language as tl"
      ],
      "metadata": {
        "collapsed": true,
        "id": "Cv_LN88rtXYc"
      },
      "execution_count": 1,
      "outputs": []
    },
    {
      "cell_type": "code",
      "source": [
        "@triton.jit\n",
        "def cos_sim_kernel(x_ptr,y_ptr,cosine_ptr,n_elements,BLOCK_SIZE:tl.constexpr,num_warps=1):\n",
        "  pid = tl.program_id(axis=0)\n",
        "  offs = pid * BLOCK_SIZE + tl.arange(0,BLOCK_SIZE)\n",
        "  mask = offs < n_elements\n",
        "  x = tl.load(x_ptr + offs,mask=mask,other=0.0)\n",
        "  y = tl.load(y_ptr + offs,mask=mask,other=0.0)\n",
        "  result = tl.sum(x * y)\n",
        "  norm_x = tl.sum(x * x)\n",
        "  norm_y = tl.sum(y * y)\n",
        "  tl.atomic_add(cosine_ptr,result)\n",
        "  tl.atomic_add(cosine_ptr+1,norm_x)\n",
        "  tl.atomic_add(cosine_ptr+2,norm_y)\n"
      ],
      "metadata": {
        "id": "myNdidK3UPVz"
      },
      "execution_count": 6,
      "outputs": []
    },
    {
      "cell_type": "code",
      "source": [
        "def cosine_similarity(x:torch.tensor,y:torch.tensor):\n",
        "  assert x.is_cuda and y.is_cuda\n",
        "  assert x.is_contiguous() and y.is_contiguous()\n",
        "  assert len(x) == len(y)\n",
        "  cosine = torch.zeros(3,device=x.device,dtype=x.dtype)\n",
        "  block_size = 128 if len(x) > 128 else 32\n",
        "  n_elements = x.numel()\n",
        "  grid = (triton.cdiv(n_elements,block_size),)\n",
        "  cos_sim_kernel[grid](x,y,cosine,n_elements,block_size)\n",
        "  return cosine[0] / (cosine[1].sqrt() * cosine[2].sqrt())"
      ],
      "metadata": {
        "id": "gZ3GE_e6ShbE"
      },
      "execution_count": 7,
      "outputs": []
    },
    {
      "cell_type": "code",
      "source": [
        "a = torch.randn(4096,device='cuda')\n",
        "b = torch.randn(4096,device='cuda')\n",
        "cosine = cosine_similarity(a,b)\n",
        "cosine1 = torch.nn.functional.cosine_similarity(a,b,dim=0)\n",
        "print(torch.allclose(cosine,cosine1))"
      ],
      "metadata": {
        "colab": {
          "base_uri": "https://localhost:8080/"
        },
        "id": "l0RRhehpXRMJ",
        "outputId": "f9acce1a-8629-40f7-edf7-2f7a70724cb7"
      },
      "execution_count": 25,
      "outputs": [
        {
          "output_type": "stream",
          "name": "stdout",
          "text": [
            "True\n"
          ]
        }
      ]
    },
    {
      "cell_type": "code",
      "source": [
        "import torch\n",
        "import triton\n",
        "from prettytable import PrettyTable\n",
        "\n",
        "def torch_cosine_similarity(x: torch.Tensor, y: torch.Tensor):\n",
        "    return torch.nn.functional.cosine_similarity(x, y, dim=0)\n",
        "\n",
        "# Benchmark function\n",
        "def benchmark(fn, *args, warmup=8, steps=128):\n",
        "    start = torch.cuda.Event(enable_timing=True)\n",
        "    end = torch.cuda.Event(enable_timing=True)\n",
        "    # Warmup\n",
        "    for _ in range(warmup):\n",
        "        fn(*args)\n",
        "    torch.cuda.synchronize()\n",
        "    # Actual timing\n",
        "    start.record()\n",
        "    for _ in range(steps):\n",
        "        fn(*args)\n",
        "    end.record()\n",
        "    torch.cuda.synchronize()\n",
        "    return start.elapsed_time(end) / steps\n",
        "\n",
        "# Define vector sizes for benchmarking\n",
        "sizes = [\n",
        "    1024,\n",
        "    4096,\n",
        "    16384,\n",
        "    65536,\n",
        "    4996*256\n",
        "]\n",
        "\n",
        "# Create random input tensors\n",
        "x_tensors = [torch.randn(size, device='cuda', dtype=torch.float32).contiguous()\n",
        "            for size in sizes]\n",
        "y_tensors = [torch.randn(size, device='cuda', dtype=torch.float32).contiguous()\n",
        "            for size in sizes]\n",
        "\n",
        "# Run benchmarks\n",
        "triton_times = [benchmark(cosine_similarity, x, y)\n",
        "                for x, y in zip(x_tensors, y_tensors)]\n",
        "torch_times = [benchmark(torch_cosine_similarity, x, y)\n",
        "               for x, y in zip(x_tensors, y_tensors)]\n",
        "\n",
        "# Create results table\n",
        "table = PrettyTable()\n",
        "table.field_names = [\"Vector Size\", \"Triton Time (ms)\", \"PyTorch Time (ms)\"]\n",
        "\n",
        "for size, triton_t, torch_t in zip(sizes, triton_times, torch_times):\n",
        "    table.add_row([f\"{size:,}\", f\"{triton_t:.4f}\", f\"{torch_t:.4f}\"])\n",
        "\n",
        "print(\"Cosine Similarity Benchmark Results:\")\n",
        "print(table)\n",
        "\n",
        "# Calculate and display speedup\n",
        "print(\"\\nSpeedup (PyTorch / Triton):\")\n",
        "for size, triton_t, torch_t in zip(sizes, triton_times, torch_times):\n",
        "    speedup = torch_t / triton_t if triton_t > 0 else float('inf')\n",
        "    print(f\"Size {size:,}: {speedup:.2f}x\")"
      ],
      "metadata": {
        "colab": {
          "base_uri": "https://localhost:8080/"
        },
        "id": "v5LvSMimVvvS",
        "outputId": "ce862993-8fc9-46d5-ee0c-fd181eaacd12"
      },
      "execution_count": 26,
      "outputs": [
        {
          "output_type": "stream",
          "name": "stdout",
          "text": [
            "Cosine Similarity Benchmark Results:\n",
            "+-------------+------------------+-------------------+\n",
            "| Vector Size | Triton Time (ms) | PyTorch Time (ms) |\n",
            "+-------------+------------------+-------------------+\n",
            "|    1,024    |      0.2392      |       0.0947      |\n",
            "|    4,096    |      0.1535      |       0.1010      |\n",
            "|    16,384   |      0.1385      |       0.0977      |\n",
            "|    65,536   |      0.1348      |       0.0992      |\n",
            "|  1,278,976  |      0.2225      |       0.2804      |\n",
            "+-------------+------------------+-------------------+\n",
            "\n",
            "Speedup (PyTorch / Triton):\n",
            "Size 1,024: 0.40x\n",
            "Size 4,096: 0.66x\n",
            "Size 16,384: 0.70x\n",
            "Size 65,536: 0.74x\n",
            "Size 1,278,976: 1.26x\n"
          ]
        }
      ]
    }
  ]
}