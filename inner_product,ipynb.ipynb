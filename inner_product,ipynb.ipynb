{
  "nbformat": 4,
  "nbformat_minor": 0,
  "metadata": {
    "colab": {
      "provenance": [],
      "gpuType": "T4",
      "authorship_tag": "ABX9TyNSiJRCsTbt1bBbKyD3JZpQ",
      "include_colab_link": true
    },
    "kernelspec": {
      "name": "python3",
      "display_name": "Python 3"
    },
    "language_info": {
      "name": "python"
    },
    "accelerator": "GPU"
  },
  "cells": [
    {
      "cell_type": "markdown",
      "metadata": {
        "id": "view-in-github",
        "colab_type": "text"
      },
      "source": [
        "<a href=\"https://colab.research.google.com/github/doudi25/Triton/blob/main/inner_product%2Cipynb.ipynb\" target=\"_parent\"><img src=\"https://colab.research.google.com/assets/colab-badge.svg\" alt=\"Open In Colab\"/></a>"
      ]
    },
    {
      "cell_type": "code",
      "execution_count": null,
      "metadata": {
        "id": "ewfLXs7DteTy"
      },
      "outputs": [],
      "source": [
        "import torch\n",
        "import triton\n",
        "import triton.language as tl"
      ]
    },
    {
      "cell_type": "code",
      "source": [
        "@triton.jit\n",
        "def inner_kernel(a_ptr,b_ptr,out_ptr,n_elements,BLOCK_SIZE:tl.constexpr):\n",
        "  pid = tl.program_id(axis=0)\n",
        "  offs = pid * BLOCK_SIZE + tl.arange(0,BLOCK_SIZE)\n",
        "  mask = offs < n_elements\n",
        "  a = tl.load(a_ptr + offs,mask=mask)\n",
        "  b = tl.load(b_ptr + offs,mask=mask)\n",
        "  a = a.to(dtype=tl.float32)\n",
        "  b = b.to(dtype=tl.float32)\n",
        "  partial_sum = tl.sum(a*b)\n",
        "  tl.atomic_add(out_ptr,partial_sum)"
      ],
      "metadata": {
        "id": "-UPFfRKguWnM"
      },
      "execution_count": null,
      "outputs": []
    },
    {
      "cell_type": "code",
      "source": [
        "def inner_product(a,b):\n",
        "  assert a.is_cuda\n",
        "  assert b.is_cuda\n",
        "  out = torch.zeros(1,device=a.device,dtype=a.dtype)\n",
        "  n_elements = a.numel()\n",
        "  grid = lambda meta:(triton.cdiv(n_elements,meta['BLOCK_SIZE']),)\n",
        "  inner_kernel[grid](a,b,out,n_elements,BLOCK_SIZE=256)\n",
        "  return out"
      ],
      "metadata": {
        "id": "n0OriKYftr-8"
      },
      "execution_count": null,
      "outputs": []
    },
    {
      "cell_type": "code",
      "source": [
        "a = torch.randn(1,256*256,device='cuda')\n",
        "b = torch.randn(1,256*256,device='cuda')\n",
        "c = (a*b).sum()\n",
        "d = inner_product(b,a)"
      ],
      "metadata": {
        "id": "cowC0f1kwAZI"
      },
      "execution_count": null,
      "outputs": []
    },
    {
      "cell_type": "code",
      "source": [
        "torch.allclose(c,d)"
      ],
      "metadata": {
        "colab": {
          "base_uri": "https://localhost:8080/"
        },
        "id": "TVv8cMBXwWUj",
        "outputId": "949721ff-dc04-48b4-d4f9-8d1228b3a802"
      },
      "execution_count": null,
      "outputs": [
        {
          "output_type": "execute_result",
          "data": {
            "text/plain": [
              "True"
            ]
          },
          "metadata": {},
          "execution_count": 37
        }
      ]
    }
  ]
}