{
  "nbformat": 4,
  "nbformat_minor": 0,
  "metadata": {
    "colab": {
      "provenance": [],
      "gpuType": "T4",
      "authorship_tag": "ABX9TyOWfwdS4SonazeqxLhEA7PJ",
      "include_colab_link": true
    },
    "kernelspec": {
      "name": "python3",
      "display_name": "Python 3"
    },
    "language_info": {
      "name": "python"
    },
    "accelerator": "GPU"
  },
  "cells": [
    {
      "cell_type": "markdown",
      "metadata": {
        "id": "view-in-github",
        "colab_type": "text"
      },
      "source": [
        "<a href=\"https://colab.research.google.com/github/doudi25/Triton/blob/main/BatchNorm.ipynb\" target=\"_parent\"><img src=\"https://colab.research.google.com/assets/colab-badge.svg\" alt=\"Open In Colab\"/></a>"
      ]
    },
    {
      "cell_type": "code",
      "execution_count": 123,
      "metadata": {
        "id": "ANAYQhWTOv6r"
      },
      "outputs": [],
      "source": [
        "import triton\n",
        "import torch\n",
        "import triton.language as tl\n"
      ]
    },
    {
      "cell_type": "code",
      "source": [
        "@triton.jit\n",
        "def batchnorm_kernel(input_ptr,out_ptr,stride_m,stride_n,bs,seq_len,gemma,beta,eps,BLOCK_SEQ:tl.constexpr,BLOCK_BATCH:tl.constexpr):\n",
        "  seq_id = tl.program_id(axis=0)\n",
        "  seq_offs = seq_id * BLOCK_SEQ + tl.arange(0,BLOCK_SEQ)\n",
        "  batch_offs = tl.arange(0,BLOCK_BATCH)\n",
        "  seq_mask = seq_offs < seq_len\n",
        "  mask = (batch_offs[:,None] < bs )& (seq_offs[None,:] < seq_len)\n",
        "  input_ptrs = input_ptr + batch_offs[:,None] * stride_m + seq_offs[None,:] * stride_n\n",
        "  input = tl.load(input_ptrs,mask=mask)\n",
        "  input = input.to(dtype=tl.float32)\n",
        "  mean = tl.sum(input,axis=0,keep_dims=True) / bs\n",
        "  mean = mean.to(dtype=tl.float32)\n",
        "  eps = eps.to(dtype=tl.float32)\n",
        "  var = (tl.sum((input-mean)*(input-mean),axis=0,keep_dims=True)/bs).to(dtype=tl.float32)\n",
        "  gemma = tl.load(gemma + seq_offs * stride_n,mask=seq_mask)\n",
        "  gemma = gemma.to(dtype=tl.float32)\n",
        "  beta = tl.load(beta + seq_offs * stride_n,mask=seq_mask)\n",
        "  beta = beta.to(dtype=tl.float32)\n",
        "  out  = ( tl.rsqrt(var+eps)*(input - mean) * gemma ) + beta\n",
        "  out = out.to(dtype=tl.float32)\n",
        "  out_ptrs = out_ptr +  batch_offs[:,None] * stride_m + seq_offs[None,:] * stride_n\n",
        "  tl.store(out_ptrs,out)"
      ],
      "metadata": {
        "id": "G2n3yNWnux25"
      },
      "execution_count": 154,
      "outputs": []
    },
    {
      "cell_type": "code",
      "source": [
        "def batchnorm_1d(input,gemma,beta,eps):\n",
        "  assert input.is_cuda\n",
        "  assert gemma.is_cuda and beta.is_cuda\n",
        "  assert input.ndim == 2\n",
        "  bs,seq_len = input.shape\n",
        "  out = torch.empty_like(input,device=input.device,dtype=input.dtype)\n",
        "  BLOCK_SEQ = triton.next_power_of_2(bs)\n",
        "  BLOCK_BATCH = triton.next_power_of_2(bs)\n",
        "  grid = (seq_len + BLOCK_SEQ - 1) // BLOCK_SEQ\n",
        "  batchnorm_kernel[(grid,)](input,out,input.stride(0),input.stride(1),bs,seq_len,gemma,beta,eps,\n",
        "                         BLOCK_SEQ,BLOCK_BATCH)\n",
        "  return out"
      ],
      "metadata": {
        "id": "Z1vpQ-LJThzP"
      },
      "execution_count": 155,
      "outputs": []
    },
    {
      "cell_type": "code",
      "source": [
        "layer = torch.nn.BatchNorm1d(1024).to('cuda')\n",
        "input =  torch.randn((256,1024),device='cuda')\n",
        "out_triton = batchnorm_1d(input,layer.weight,layer.bias,layer.eps)\n",
        "out = layer(input)\n"
      ],
      "metadata": {
        "id": "sMRkKZaf1fgT"
      },
      "execution_count": 172,
      "outputs": []
    },
    {
      "cell_type": "code",
      "source": [
        "torch.allclose(out,out_triton,1e-3)"
      ],
      "metadata": {
        "id": "fUFYRcoc1mRY",
        "colab": {
          "base_uri": "https://localhost:8080/"
        },
        "outputId": "24f72569-5424-46b1-f6b4-5df10515b7a6"
      },
      "execution_count": 175,
      "outputs": [
        {
          "output_type": "execute_result",
          "data": {
            "text/plain": [
              "True"
            ]
          },
          "metadata": {},
          "execution_count": 175
        }
      ]
    }
  ]
}