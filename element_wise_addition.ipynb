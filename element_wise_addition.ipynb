{
  "nbformat": 4,
  "nbformat_minor": 0,
  "metadata": {
    "colab": {
      "provenance": [],
      "gpuType": "T4",
      "authorship_tag": "ABX9TyPZU/f5pz2X0MTFkPdUOFrb",
      "include_colab_link": true
    },
    "kernelspec": {
      "name": "python3",
      "display_name": "Python 3"
    },
    "language_info": {
      "name": "python"
    },
    "accelerator": "GPU"
  },
  "cells": [
    {
      "cell_type": "markdown",
      "metadata": {
        "id": "view-in-github",
        "colab_type": "text"
      },
      "source": [
        "<a href=\"https://colab.research.google.com/github/doudi25/Triton/blob/main/element_wise_addition.ipynb\" target=\"_parent\"><img src=\"https://colab.research.google.com/assets/colab-badge.svg\" alt=\"Open In Colab\"/></a>"
      ]
    },
    {
      "cell_type": "code",
      "execution_count": 13,
      "metadata": {
        "id": "QTBrO27xPhPw"
      },
      "outputs": [],
      "source": [
        "import torch\n",
        "import triton\n",
        "import triton.language as tl"
      ]
    },
    {
      "cell_type": "code",
      "source": [
        "@triton.jit\n",
        "def matrix_add(a_ptr,b_ptr,c_ptr,M,N,stride_am,stride_an,BLOCK_SIZE_M:tl.constexpr,BLOCK_SIZE_N:tl.constexpr):\n",
        "  pid_m = tl.program_id(axis=0)\n",
        "  pid_n = tl.program_id(axis=1)\n",
        "  offs_m = pid_m * BLOCK_SIZE_M + tl.arange(0,BLOCK_SIZE_M)\n",
        "  offs_n = pid_n * BLOCK_SIZE_N + tl.arange(0,BLOCK_SIZE_N)\n",
        "  a_ptrs = a_ptr + offs_m[:,None] * stride_am + offs_n[None,:] * stride_an\n",
        "  b_ptrs = b_ptr + offs_m[:,None] * stride_am + offs_n[None,:] * stride_an\n",
        "  mask = (offs_m[:,None] < M) & (offs_n[None,:] < N )\n",
        "  a = tl.load(a_ptrs,mask=mask)\n",
        "  b = tl.load(b_ptrs,mask=mask)\n",
        "  c = a + b\n",
        "  c_ptrs = c_ptr + offs_m[:,None] * stride_am + offs_n[None,:] * stride_an\n",
        "  tl.store(c_ptrs,c,mask=mask)"
      ],
      "metadata": {
        "id": "lnFiQkYNSFBA"
      },
      "execution_count": 16,
      "outputs": []
    },
    {
      "cell_type": "code",
      "source": [
        "def mat_add(a,b):\n",
        "  assert a.is_contiguous() and b.is_contiguous()\n",
        "  assert a.shape == b.shape\n",
        "  M,N = a.shape\n",
        "  c = torch.empty_like(a,device=a.device,dtype=a.dtype)\n",
        "  grid = lambda meta: (triton.cdiv(M,meta['BLOCK_SIZE_M']),triton.cdiv(N,meta['BLOCK_SIZE_N']))\n",
        "  matrix_add[grid](\n",
        "      a,b,c,\n",
        "      M,N,\n",
        "      a.stride(0),a.stride(1),\n",
        "      BLOCK_SIZE_M=128,BLOCK_SIZE_N=128)\n",
        "  return c"
      ],
      "metadata": {
        "id": "rmhzvuhKPpix"
      },
      "execution_count": 19,
      "outputs": []
    },
    {
      "cell_type": "code",
      "source": [
        "B = torch.rand((16384,16384),device='cuda')\n",
        "A = torch.rand((16384,16384),device='cuda')"
      ],
      "metadata": {
        "id": "G8vXAMdoTvER"
      },
      "execution_count": 23,
      "outputs": []
    },
    {
      "cell_type": "code",
      "source": [
        "C = mat_add(A,B)\n",
        "D = A + B"
      ],
      "metadata": {
        "id": "wGcXMkEpU0WJ"
      },
      "execution_count": 26,
      "outputs": []
    },
    {
      "cell_type": "code",
      "source": [
        "print(torch.allclose(C,D))"
      ],
      "metadata": {
        "colab": {
          "base_uri": "https://localhost:8080/"
        },
        "id": "x-SNuVgxVgvZ",
        "outputId": "ce990896-9173-46ad-a46e-323d3e6aca45"
      },
      "execution_count": 27,
      "outputs": [
        {
          "output_type": "stream",
          "name": "stdout",
          "text": [
            "True\n"
          ]
        }
      ]
    }
  ]
}