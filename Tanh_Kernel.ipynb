{
  "nbformat": 4,
  "nbformat_minor": 0,
  "metadata": {
    "colab": {
      "provenance": [],
      "gpuType": "T4",
      "authorship_tag": "ABX9TyPCpl7FIVSGBh3rPshw009f",
      "include_colab_link": true
    },
    "kernelspec": {
      "name": "python3",
      "display_name": "Python 3"
    },
    "language_info": {
      "name": "python"
    },
    "accelerator": "GPU"
  },
  "cells": [
    {
      "cell_type": "markdown",
      "metadata": {
        "id": "view-in-github",
        "colab_type": "text"
      },
      "source": [
        "<a href=\"https://colab.research.google.com/github/doudi25/Triton/blob/main/Tanh_Kernel.ipynb\" target=\"_parent\"><img src=\"https://colab.research.google.com/assets/colab-badge.svg\" alt=\"Open In Colab\"/></a>"
      ]
    },
    {
      "cell_type": "code",
      "execution_count": 14,
      "metadata": {
        "id": "tOYtuv60EmjR"
      },
      "outputs": [],
      "source": [
        "import triton.language as tl\n",
        "import triton\n",
        "import torch\n",
        "import torch.nn as nn"
      ]
    },
    {
      "cell_type": "code",
      "source": [
        "device = 'cuda' if torch.cuda.is_available() else 'cpu'"
      ],
      "metadata": {
        "id": "9Ig-vy9EF3dl"
      },
      "execution_count": 15,
      "outputs": []
    },
    {
      "cell_type": "code",
      "source": [
        "@triton.jit\n",
        "def tanh(a):\n",
        "  return (tl.exp(a) - tl.exp(-a) ) / (tl.exp(a) + tl.exp(-a))"
      ],
      "metadata": {
        "id": "-3HtpUsyG1O5"
      },
      "execution_count": 16,
      "outputs": []
    },
    {
      "cell_type": "code",
      "source": [
        "@triton.jit\n",
        "def forward_tanh_kernel(a_ptr,out_ptr,n_elements,BLOCK_SIZE:tl.constexpr):\n",
        "  pid = tl.program_id(axis=0)\n",
        "  block_id = pid * BLOCK_SIZE\n",
        "  offsets = block_id + tl.arange(0,BLOCK_SIZE)\n",
        "  mask = offsets < n_elements\n",
        "  a = tl.load(a_ptr + offsets,mask=mask)\n",
        "  out = tanh(a)\n",
        "  tl.store(out_ptr + offsets,out,mask=mask)"
      ],
      "metadata": {
        "id": "YB4EMeYFFOXF"
      },
      "execution_count": 17,
      "outputs": []
    },
    {
      "cell_type": "code",
      "source": [
        "def forward_tanh(a):\n",
        "  out = torch.empty_like(a,device='cuda')\n",
        "  n_elements = a.numel()\n",
        "  grid = lambda meta: ( triton.cdiv(n_elements,meta['BLOCK_SIZE']),)\n",
        "  forward_tanh_kernel[grid](a,out,n_elements,BLOCK_SIZE=1024)\n",
        "  return out\n"
      ],
      "metadata": {
        "id": "AaOfgr8wEz6V"
      },
      "execution_count": 18,
      "outputs": []
    },
    {
      "cell_type": "code",
      "source": [
        "@triton.jit\n",
        "def backward_tanh_kernel(a_ptr,grad_ptr,n_elements,BLOCK_SIZE:tl.constexpr):\n",
        "  pid = tl.program_id(axis=0)\n",
        "  block_id = pid * BLOCK_SIZE\n",
        "  offsets = block_id + tl.arange(0,BLOCK_SIZE)\n",
        "  a = tl.load(a_ptr + offsets,mask= offsets < n_elements)\n",
        "  out = tanh(a)\n",
        "  Da = 1.0 - ( out * out)\n",
        "  tl.store(grad_ptr + offsets,Da,mask = offsets < n_elements)"
      ],
      "metadata": {
        "id": "LdH2mjjBVjvt"
      },
      "execution_count": 19,
      "outputs": []
    },
    {
      "cell_type": "code",
      "source": [
        "def backward_tanh(a):\n",
        "  grad = torch.empty_like(a,device='cuda')\n",
        "  n_elements = a.numel()\n",
        "  grid = lambda meta: (triton.cdiv(n_elements,meta['BLOCK_SIZE']),)\n",
        "  backward_tanh_kernel[grid](a,grad,n_elements,BLOCK_SIZE=1024)\n",
        "  return grad"
      ],
      "metadata": {
        "id": "HlSc7xqtHLrC"
      },
      "execution_count": 20,
      "outputs": []
    },
    {
      "cell_type": "code",
      "source": [
        "a = torch.randn((1,5),requires_grad=True,device='cuda')\n",
        "b = forward_tanh(a)\n",
        "c = backward_tanh(a)"
      ],
      "metadata": {
        "id": "SHoSxhOUqEZi"
      },
      "execution_count": 21,
      "outputs": []
    },
    {
      "cell_type": "code",
      "source": [
        "import torch.nn as nn\n",
        "m = nn.Tanh()\n",
        "b_pytorch = m(a)\n",
        "d = b_pytorch.sum()\n",
        "d.backward()\n"
      ],
      "metadata": {
        "id": "niXhmDE9qLBP"
      },
      "execution_count": 22,
      "outputs": []
    },
    {
      "cell_type": "code",
      "source": [
        "print(torch.allclose(b_pytorch,b))\n",
        "print(torch.allclose(a.grad,c))"
      ],
      "metadata": {
        "colab": {
          "base_uri": "https://localhost:8080/"
        },
        "id": "cbYK4E5AqfV6",
        "outputId": "af26e885-3071-49d2-bda4-11b77b527c26"
      },
      "execution_count": 23,
      "outputs": [
        {
          "output_type": "stream",
          "name": "stdout",
          "text": [
            "True\n",
            "True\n"
          ]
        }
      ]
    }
  ]
}