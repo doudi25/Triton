{
  "cells": [
    {
      "cell_type": "markdown",
      "metadata": {
        "id": "view-in-github",
        "colab_type": "text"
      },
      "source": [
        "<a href=\"https://colab.research.google.com/github/doudi25/Triton/blob/main/diffusion_backward_process.ipynb\" target=\"_parent\"><img src=\"https://colab.research.google.com/assets/colab-badge.svg\" alt=\"Open In Colab\"/></a>"
      ]
    },
    {
      "cell_type": "code",
      "source": [
        "import torch\n",
        "import triton\n",
        "import triton.language as tl"
      ],
      "metadata": {
        "id": "zGcXBnVSe9Cc"
      },
      "execution_count": 10,
      "outputs": []
    },
    {
      "cell_type": "code",
      "execution_count": 11,
      "metadata": {
        "id": "NjCyCASKI_zL"
      },
      "outputs": [],
      "source": [
        "@triton.jit\n",
        "def denoising_kernel(xt_ptr,noise_ptr,z_ptr,out_ptr,stride_b,stride_c,stride_m,\n",
        "                     btt_ptr,coeff_ptr,at_ptr,BLOCK_SIZE_ROW:tl.constexpr,BLOCK_SIZE_COL:tl.constexpr,\n",
        "                     b,c,h,w):\n",
        "  batch_id = tl.program_id(axis=0)\n",
        "  channel_id = tl.program_id(axis=1)\n",
        "  second_id = tl.program_id(axis=2)\n",
        "  width_block = tl.cdiv(w,BLOCK_SIZE_COL)\n",
        "  width_id = second_id % width_block\n",
        "  height_id = second_id // width_block\n",
        "  offs_row = height_id * BLOCK_SIZE_ROW + tl.arange(0,BLOCK_SIZE_ROW)\n",
        "  offs_col = width_id * BLOCK_SIZE_COL + tl.arange(0,BLOCK_SIZE_COL)\n",
        "  mask = (offs_row[:,None] < h) & (offs_col[None,:] < w)\n",
        "  xt_ptrs = xt_ptr + batch_id * stride_b + channel_id * stride_c + offs_row[:,None] * stride_m + offs_col[None,:]\n",
        "  noise_ptrs = noise_ptr + batch_id * stride_b + channel_id * stride_c + offs_row[:,None] * stride_m + offs_col[None,:]\n",
        "  z_ptrs = z_ptr + batch_id * stride_b + channel_id * stride_c + offs_row[:,None] * stride_m + offs_col[None,:]\n",
        "  xt = tl.load(xt_ptrs,mask=mask)\n",
        "  noise = tl.load(noise_ptrs,mask=mask)\n",
        "  z = tl.load(z_ptrs,mask=mask)\n",
        "  btt = tl.load(btt_ptr)\n",
        "  coeff = tl.load(coeff_ptr)\n",
        "  at = tl.load(at_ptr)\n",
        "  mu = tl.rsqrt(at) * (xt - coeff * noise)\n",
        "  out = mu + tl.sqrt(btt) * z\n",
        "  out_ptrs = out_ptr +  batch_id * stride_b + channel_id * stride_c + offs_row[:,None] * stride_m + offs_col[None,:]\n",
        "  tl.store(out_ptrs,out,mask=mask)"
      ]
    },
    {
      "cell_type": "code",
      "execution_count": 23,
      "metadata": {
        "id": "kBLL0XiG_UHL"
      },
      "outputs": [],
      "source": [
        "def denoising(xt:torch.tensor,noise:torch.tensor,t:int):\n",
        "  assert xt.is_cuda and xt.is_contiguous()\n",
        "  assert noise.is_cuda and noise.is_contiguous()\n",
        "  b,c,h,w = xt.shape\n",
        "  t = torch.full((xt.size(0),),t,device=xt.device)\n",
        "  beta = torch.linspace(2e-4,0.02,1000).to('cuda')\n",
        "  alpha = 1 - beta\n",
        "  alpha_bar = torch.cumprod(alpha,dim=0)\n",
        "  beta_telda = beta[t] * (( 1 - alpha_bar.roll(1)[t]) /(1 - alpha_bar[t]))\n",
        "  beta_telda[0] = beta[0]\n",
        "  beta_telda_t = beta_telda.view(-1,1,1,1)\n",
        "  alpha_bar_t = alpha_bar[t].view(-1,1,1,1)\n",
        "  alpha_t = alpha[t].view(-1,1,1,1)\n",
        "  coeff = beta[t].view(-1,1,1,1) * torch.rsqrt(1-alpha_bar_t)\n",
        "  z = torch.randn_like(xt,device=xt.device,dtype=xt.dtype)\n",
        "  out = torch.empty_like(xt,device=xt.device,dtype=xt.dtype)\n",
        "  BLOCK_SIZE_ROW = 32\n",
        "  BLOCK_SIZE_COL = 32\n",
        "  grid = (b,c,triton.cdiv(h,BLOCK_SIZE_ROW),triton.cdiv(w,BLOCK_SIZE_COL))\n",
        "  denoising_kernel[grid](xt,noise,z,out,xt.stride(0),xt.stride(1),xt.stride(2),\n",
        "                         beta_telda_t,coeff,alpha_t,BLOCK_SIZE_ROW,BLOCK_SIZE_COL,\n",
        "                         b,c,h,w)\n",
        "  return out\n"
      ]
    },
    {
      "cell_type": "code",
      "source": [
        "input = torch.randn((4,3,128,128),device='cuda')\n",
        "noise = torch.randn_like(input)\n",
        "out = denoising(input,noise,500)"
      ],
      "metadata": {
        "id": "6S-qD5dGe_qg"
      },
      "execution_count": 24,
      "outputs": []
    }
  ],
  "metadata": {
    "colab": {
      "provenance": [],
      "authorship_tag": "ABX9TyNUSznTyeV/gm+8vbpnTYRe",
      "include_colab_link": true
    },
    "kernelspec": {
      "display_name": "Python 3",
      "name": "python3"
    },
    "language_info": {
      "name": "python"
    }
  },
  "nbformat": 4,
  "nbformat_minor": 0
}