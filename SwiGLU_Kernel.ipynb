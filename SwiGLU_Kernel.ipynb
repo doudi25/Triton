{
  "nbformat": 4,
  "nbformat_minor": 0,
  "metadata": {
    "colab": {
      "provenance": [],
      "gpuType": "T4",
      "authorship_tag": "ABX9TyN1Zvxx0AMmkq/GISyM5KUs",
      "include_colab_link": true
    },
    "kernelspec": {
      "name": "python3",
      "display_name": "Python 3"
    },
    "language_info": {
      "name": "python"
    },
    "accelerator": "GPU"
  },
  "cells": [
    {
      "cell_type": "markdown",
      "metadata": {
        "id": "view-in-github",
        "colab_type": "text"
      },
      "source": [
        "<a href=\"https://colab.research.google.com/github/doudi25/Triton/blob/main/SwiGLU_Kernel.ipynb\" target=\"_parent\"><img src=\"https://colab.research.google.com/assets/colab-badge.svg\" alt=\"Open In Colab\"/></a>"
      ]
    },
    {
      "cell_type": "code",
      "execution_count": 1,
      "metadata": {
        "id": "HfKZbeoBXhxs"
      },
      "outputs": [],
      "source": [
        "import triton\n",
        "import triton.language as tl\n",
        "import torch"
      ]
    },
    {
      "cell_type": "code",
      "source": [
        "device = 'cuda' if torch.cuda.is_available() else 'cpu'"
      ],
      "metadata": {
        "id": "JmdQQgjsqqXS"
      },
      "execution_count": 2,
      "outputs": []
    },
    {
      "cell_type": "code",
      "source": [
        "@triton.jit\n",
        "def forward_SwiGLU(a_ptr,g_ptr,out_ptr,n_elements,BLOCK_SIZE:tl.constexpr):\n",
        "  pid = tl.program_id(axis=0)\n",
        "  block_id = pid * BLOCK_SIZE\n",
        "  offsets  = block_id + tl.arange(0,BLOCK_SIZE)\n",
        "  mask = offsets < n_elements\n",
        "  a = tl.load(a_ptr + offsets,mask = mask)\n",
        "  g = tl.load(g_ptr + offsets,mask = mask)\n",
        "  silu = a * tl.sigmoid(a)\n",
        "  # out = swish(a) * g  => swish(a) = a * sigmoid(a) =====> * is element wise multiplication\n",
        "  out = silu * g\n",
        "  tl.store(out_ptr + offsets,out,mask=mask)\n",
        "\n"
      ],
      "metadata": {
        "id": "_qOwNMd9o6Vg"
      },
      "execution_count": 3,
      "outputs": []
    },
    {
      "cell_type": "code",
      "source": [
        "\n",
        "def SwiGLU(a,g):\n",
        "  batch , seq_len , hidden = a.shape\n",
        "  # reshaping tensors to M,N type\n",
        "  a = a.view(batch * seq_len , hidden)\n",
        "  g = g.view(batch * seq_len , hidden)\n",
        "  n_elements = g.numel()\n",
        "  # allocate memory for the result\n",
        "  out = torch.empty_like(a,device='cuda')\n",
        "  grid = lambda meta : ( triton.cdiv(n_elements,meta['BLOCK_SIZE']),)\n",
        "  forward_SwiGLU[grid](a,g,out,n_elements,BLOCK_SIZE=1024)\n",
        "  return out\n",
        ""
      ],
      "metadata": {
        "id": "gGuD8Xp0kAWF"
      },
      "execution_count": 12,
      "outputs": []
    },
    {
      "cell_type": "code",
      "source": [
        "@triton.jit\n",
        "def backward_SwiGLU_kernel(DOUT_ptr,a_ptr,g_ptr,n_elements,BLOCK_SIZE:tl.constexpr):\n",
        "  pid = tl.program_id(axis=0)\n",
        "  block_id = pid * BLOCK_SIZE\n",
        "  offsets = block_id + tl.arange(0,BLOCK_SIZE)\n",
        "  DOUT = tl.load(DOUT_ptr + offsets,mask = offsets < n_elements)\n",
        "  a = tl.load(a_ptr + offsets,mask = offsets < n_elements)\n",
        "  g = tl.load(g_ptr + offsets,mask = offsets < n_elements)\n",
        "  sig = tl.sigmoid(a)\n",
        "  Swish = a\n",
        "  # the gradient of the gate will be DOUT * Swish since out = swish * g (* is element wise multiplication)\n",
        "  Dg = DOUT * Swish\n",
        "  # Da = ( dout / dswish ) * (dswish / da) we will fuse it directly in one line => dout/dswish = Dout * gate --------- dswish/da = sigmoid(a) + sigmoid(a) * (1-sigmoid(a)) * a\n",
        "  Da =  DOUT * g * ( sig + sig * (1 - sig ) * a)\n",
        "  tl.store(a_ptr + offsets,Da,mask = offsets < n_elements)\n",
        "  tl.store(g_ptr + offsets,Dg,mask = offsets < n_elements)\n"
      ],
      "metadata": {
        "id": "ENadQngdt_EJ"
      },
      "execution_count": 23,
      "outputs": []
    },
    {
      "cell_type": "code",
      "source": [
        "def backward_SwiGLU(DOUT,a,g):\n",
        "  # DOUT is the gradient of out with respect to loss ----> dloss/Dout\n",
        "  batch_size , seq_len , hidden = DOUT.shape\n",
        "  DOUT = DOUT.view(DOUT.shape[0] * DOUT.shape[1],-1)\n",
        "  a = a.view(batch_size * seq_len,-1)\n",
        "  g = b.view(batch_size * seq_len,-1)\n",
        "  n_elements = a.numel()\n",
        "  grid = lambda meta : (triton.cdiv(n_elements,meta['BLOCK_SIZE']),)\n",
        "  backward_SwiGLU_kernel[grid](DOUT,a,g,n_elements,BLOCK_SIZE=1024,)\n",
        "  return a , g\n",
        ""
      ],
      "metadata": {
        "id": "Woea8kqSshN_"
      },
      "execution_count": 26,
      "outputs": []
    }
  ]
}