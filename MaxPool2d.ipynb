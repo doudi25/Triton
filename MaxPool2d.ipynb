{
  "nbformat": 4,
  "nbformat_minor": 0,
  "metadata": {
    "colab": {
      "provenance": [],
      "gpuType": "T4",
      "authorship_tag": "ABX9TyOokCIA+eWcN4eNgaPezQGn",
      "include_colab_link": true
    },
    "kernelspec": {
      "name": "python3",
      "display_name": "Python 3"
    },
    "language_info": {
      "name": "python"
    },
    "accelerator": "GPU"
  },
  "cells": [
    {
      "cell_type": "markdown",
      "metadata": {
        "id": "view-in-github",
        "colab_type": "text"
      },
      "source": [
        "<a href=\"https://colab.research.google.com/github/doudi25/Triton/blob/main/MaxPool2d.ipynb\" target=\"_parent\"><img src=\"https://colab.research.google.com/assets/colab-badge.svg\" alt=\"Open In Colab\"/></a>"
      ]
    },
    {
      "cell_type": "code",
      "source": [
        "import torch\n",
        "import triton\n",
        "import triton.language as tl"
      ],
      "metadata": {
        "id": "Og4HQyNzoTz7"
      },
      "execution_count": 1,
      "outputs": []
    },
    {
      "cell_type": "code",
      "source": [
        "@triton.jit\n",
        "def maxpool2d_kernel(input_ptr,out_ptr,stride_in_b,stride_in_c,stride_in_m,stride_in_n,stride_b,stride_c,stride_m,stride_n,h,w,kernel_size,BLOCK_SIZE_K:tl.constexpr,BLOCK_SIZE_R:tl.constexpr):\n",
        "  batch_id = tl.program_id(axis=0)\n",
        "  channel_id = tl.program_id(axis=1)\n",
        "  row_id = tl.program_id(axis=2)\n",
        "  row_offs = row_id * BLOCK_SIZE_R + tl.arange(0,BLOCK_SIZE_R)\n",
        "  row_mask = row_offs[:,None] < h\n",
        "  row_offs = row_offs[:,None] * stride_in_m\n",
        "  in_offs = batch_id * stride_in_b + channel_id * stride_in_c\n",
        "  out_offs = batch_id * stride_b + channel_id * stride_c + row_id * stride_m\n",
        "  for step in range(0,w//kernel_size):\n",
        "    col_offs = step * BLOCK_SIZE_K + tl.arange(0,BLOCK_SIZE_K)\n",
        "    col_mask = col_offs[None,:] < w\n",
        "    col_offs = col_offs[None,:] * stride_in_n\n",
        "    input = tl.load(input_ptr + in_offs + row_offs + col_offs,mask=(row_mask&col_mask))\n",
        "    max = tl.max(input)\n",
        "    out_ptrs  = out_ptr + out_offs + step\n",
        "    tl.store(out_ptrs,max)"
      ],
      "metadata": {
        "id": "7wt7dwONoWRR"
      },
      "execution_count": 8,
      "outputs": []
    },
    {
      "cell_type": "code",
      "execution_count": 9,
      "metadata": {
        "id": "XyeK_AjUjjrI"
      },
      "outputs": [],
      "source": [
        "def triton_maxpool2d(input,kernel_size):\n",
        "  assert input.is_cuda\n",
        "  assert input.ndim == 4\n",
        "  assert input.shape[-2] % kernel_size == 0 and input.shape[-1] % kernel_size == 0\n",
        "  bs,c,h,w = input.shape\n",
        "  out = torch.empty((bs,c,h//kernel_size,w//kernel_size),device=input.device)\n",
        "  grid = (bs,c,h//kernel_size)\n",
        "  BLOCK_SIZE_K = kernel_size\n",
        "  BLOCK_SIZE_R = kernel_size\n",
        "  maxpool2d_kernel[grid](input,out,input.stride(0),input.stride(1),input.stride(2),input.stride(3),out.stride(0),out.stride(1),\n",
        "                         out.stride(2),out.stride(3),h,w,kernel_size,BLOCK_SIZE_K,BLOCK_SIZE_R)\n",
        "  return out"
      ]
    },
    {
      "cell_type": "code",
      "source": [
        "input = torch.rand((2,4,32,32),device='cuda')\n",
        "max = torch.nn.MaxPool2d((4,4),4).to('cuda')\n",
        "out = max(input)\n",
        "out_triton = triton_maxpool2d(input,4)\n",
        "print(torch.allclose(out,out_triton))"
      ],
      "metadata": {
        "colab": {
          "base_uri": "https://localhost:8080/"
        },
        "id": "LCS86khiq0oz",
        "outputId": "6b1f0d02-4edb-4ed6-cfd0-1726b628eb51"
      },
      "execution_count": 11,
      "outputs": [
        {
          "output_type": "stream",
          "name": "stdout",
          "text": [
            "True\n"
          ]
        }
      ]
    }
  ]
}