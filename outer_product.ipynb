{
  "nbformat": 4,
  "nbformat_minor": 0,
  "metadata": {
    "colab": {
      "provenance": [],
      "gpuType": "T4",
      "authorship_tag": "ABX9TyO7lb01EzL6tXuR7TRoHFtZ",
      "include_colab_link": true
    },
    "kernelspec": {
      "name": "python3",
      "display_name": "Python 3"
    },
    "language_info": {
      "name": "python"
    },
    "accelerator": "GPU"
  },
  "cells": [
    {
      "cell_type": "markdown",
      "metadata": {
        "id": "view-in-github",
        "colab_type": "text"
      },
      "source": [
        "<a href=\"https://colab.research.google.com/github/doudi25/Triton/blob/main/outer_product.ipynb\" target=\"_parent\"><img src=\"https://colab.research.google.com/assets/colab-badge.svg\" alt=\"Open In Colab\"/></a>"
      ]
    },
    {
      "cell_type": "code",
      "source": [
        "import torch\n",
        "import triton\n",
        "import triton.language as tl"
      ],
      "metadata": {
        "id": "iio28cu1-aZs"
      },
      "execution_count": 1,
      "outputs": []
    },
    {
      "cell_type": "code",
      "source": [
        "@triton.autotune(\n",
        "    configs=[\n",
        "        triton.Config({'BLOCK_SIZE': 32}, num_warps=1),\n",
        "        triton.Config({'BLOCK_SIZE': 64}, num_warps=2),\n",
        "        triton.Config({'BLOCK_SIZE': 128}, num_warps=4),\n",
        "        triton.Config({'BLOCK_SIZE': 256}, num_warps=8),\n",
        "    ],\n",
        "    key=['m', 'n'],\n",
        ")\n",
        "@triton.jit\n",
        "def outer_product_kernel(a_ptr,b_ptr,out_ptr,stride_m,stride_n,m,n,BLOCK_SIZE:tl.constexpr):\n",
        "  pid = tl.program_id(axis=0)\n",
        "  a_offs = pid * BLOCK_SIZE + tl.arange(0,BLOCK_SIZE)\n",
        "  b_offs = tl.arange(0,BLOCK_SIZE)\n",
        "  a_mask = a_offs < m\n",
        "  a = tl.load(a_ptr+a_offs,mask=a_mask)\n",
        "  if BLOCK_SIZE >= n:\n",
        "    b_mask = b_offs < n\n",
        "    b = tl.load(b_ptr+b_offs,mask=b_mask)\n",
        "    out = a[:,None] * b[None,:]\n",
        "    out = out.to(dtype=tl.float32)\n",
        "    out_ptrs = out_ptr + a_offs[:,None] * stride_m + b_offs[None,:] * stride_n\n",
        "    tl.store(out_ptrs,out)\n",
        "  else :\n",
        "    for step in range(tl.cdiv(n,BLOCK_SIZE)):\n",
        "      b = tl.load(b_ptr + step*BLOCK_SIZE + b_offs,mask=(step*BLOCK_SIZE+ b_offs)<n)\n",
        "      out = a[:,None] * b[None,:]\n",
        "      out = out.to(dtype=tl.float32)\n",
        "      out_ptrs = out_ptr + a_offs[:,None] * stride_m + (step * BLOCK_SIZE + b_offs[None,:] )* stride_n\n",
        "      tl.store(out_ptrs,out)"
      ],
      "metadata": {
        "id": "lGevLITTB75Q"
      },
      "execution_count": 105,
      "outputs": []
    },
    {
      "cell_type": "code",
      "source": [
        "def outer_product(a,b):\n",
        "  assert a.is_cuda and b.is_cuda\n",
        "  m = a.shape[0]\n",
        "  n = b.shape[0]\n",
        "  out = torch.empty((m,n),device=a.device,dtype=a.dtype)\n",
        "  assert m == a.numel()\n",
        "  grid = lambda meta: (triton.cdiv(m,meta['BLOCK_SIZE']),)\n",
        "  outer_product_kernel[grid](\n",
        "      a,b,out,out.stride(0),out.stride(1),m,n)\n",
        "  return out\n"
      ],
      "metadata": {
        "id": "3fYcuTBHw9-k"
      },
      "execution_count": 106,
      "outputs": []
    },
    {
      "cell_type": "code",
      "source": [
        "a = torch.randn(4096,device='cuda')\n",
        "b = torch.randn(4096,device='cuda')\n",
        "c = outer_product(a,b)\n"
      ],
      "metadata": {
        "id": "vd2vAECPBUKW"
      },
      "execution_count": 100,
      "outputs": []
    },
    {
      "cell_type": "code",
      "source": [
        "d = torch.outer(a,b)"
      ],
      "metadata": {
        "id": "PTYtm5CZnIxN"
      },
      "execution_count": 101,
      "outputs": []
    },
    {
      "cell_type": "code",
      "source": [
        "\n",
        "\n",
        "# Timing function using CUDA events\n",
        "def benchmark(fn, *args, warmup=10, reps=100):\n",
        "    start = torch.cuda.Event(enable_timing=True)\n",
        "    end = torch.cuda.Event(enable_timing=True)\n",
        "\n",
        "    # Warm-up for accurate timing (important for GPU kernels)\n",
        "    for _ in range(warmup):\n",
        "        fn(*args)\n",
        "\n",
        "    # Record actual timing\n",
        "    torch.cuda.synchronize()\n",
        "    start.record()\n",
        "    for _ in range(reps):\n",
        "        fn(*args)\n",
        "    end.record()\n",
        "    torch.cuda.synchronize()\n",
        "\n",
        "    return start.elapsed_time(end) / reps  # Average time in milliseconds\n",
        "\n",
        "# Generate random input tensors\n",
        "m, n = 4096,4096\n",
        "a = torch.randn(m, device='cuda')\n",
        "b = torch.randn(n, device='cuda')\n",
        "\n",
        "# Time the Triton kernel\n",
        "triton_time = benchmark(outer_product, a, b)\n",
        "print(f\"Triton kernel average time: {triton_time:.3f} ms\")\n",
        "\n",
        "# Time the PyTorch implementation\n",
        "torch_time = benchmark(lambda a, b: torch.outer(a, b), a, b)\n",
        "print(f\"PyTorch outer product average time: {torch_time:.3f} ms\")\n",
        "\n",
        "# Verify correctness\n",
        "triton_out = outer_product(a, b)\n",
        "torch_out = torch.outer(a, b)\n",
        "assert torch.allclose(triton_out, torch_out, atol=1e-5), \"Results do not match!\"\n",
        "\n",
        "print(\"Triton and PyTorch outputs match!\")\n"
      ],
      "metadata": {
        "colab": {
          "base_uri": "https://localhost:8080/"
        },
        "id": "W8sosyU-ykvV",
        "outputId": "3dc03fd7-e3cc-41dd-ed28-09c22868e48e"
      },
      "execution_count": 120,
      "outputs": [
        {
          "output_type": "stream",
          "name": "stdout",
          "text": [
            "Triton kernel average time: 0.329 ms\n",
            "PyTorch outer product average time: 0.342 ms\n",
            "Triton and PyTorch outputs match!\n"
          ]
        }
      ]
    },
    {
      "cell_type": "code",
      "source": [],
      "metadata": {
        "id": "f7Zu9Soh1T3a"
      },
      "execution_count": null,
      "outputs": []
    }
  ]
}