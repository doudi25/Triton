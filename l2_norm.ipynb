{
  "nbformat": 4,
  "nbformat_minor": 0,
  "metadata": {
    "colab": {
      "provenance": [],
      "gpuType": "T4",
      "authorship_tag": "ABX9TyORw2QyI56K2sxa9k6pv0pF",
      "include_colab_link": true
    },
    "kernelspec": {
      "name": "python3",
      "display_name": "Python 3"
    },
    "language_info": {
      "name": "python"
    },
    "accelerator": "GPU"
  },
  "cells": [
    {
      "cell_type": "markdown",
      "metadata": {
        "id": "view-in-github",
        "colab_type": "text"
      },
      "source": [
        "<a href=\"https://colab.research.google.com/github/doudi25/Triton/blob/main/l2_norm.ipynb\" target=\"_parent\"><img src=\"https://colab.research.google.com/assets/colab-badge.svg\" alt=\"Open In Colab\"/></a>"
      ]
    },
    {
      "cell_type": "code",
      "execution_count": 1,
      "metadata": {
        "id": "vl_gvx-xJRMc"
      },
      "outputs": [],
      "source": [
        "import torch\n",
        "import triton\n",
        "import triton.language as tl\n"
      ]
    },
    {
      "cell_type": "code",
      "source": [
        "@triton.jit\n",
        "def l2_norm_kernel(input_ptr,out_ptr,stride_m,stride_n,m,n,BLOCK_SIZE_M:tl.constexpr,BLOCK_SIZE_N:tl.constexpr):\n",
        "  pid = tl.program_id(axis=0)\n",
        "  m_offs = pid * BLOCK_SIZE_M + tl.arange(0,BLOCK_SIZE_M)\n",
        "  n_offs = tl.arange(0,BLOCK_SIZE_N)\n",
        "  mask = (m_offs[:,None] < m) & (n_offs[None,:] < n)\n",
        "  m_offs = m_offs[:,None] * stride_m\n",
        "  n_offs = n_offs[None,:] * stride_n\n",
        "  input = tl.load(input_ptr + m_offs + n_offs,mask=mask)\n",
        "  input = input.to(dtype=tl.float32)\n",
        "  factor = tl.sum(input * input,axis=1,keep_dims=True)\n",
        "  out = tl.rsqrt(factor) * input\n",
        "  out_ptrs = out_ptr + m_offs + n_offs\n",
        "  tl.store(out_ptrs,out)"
      ],
      "metadata": {
        "id": "6AccRQjFKAcO"
      },
      "execution_count": 14,
      "outputs": []
    },
    {
      "cell_type": "code",
      "source": [
        "def l2_norm(input):\n",
        "  assert input.is_cuda\n",
        "  assert input.ndim == 2\n",
        "  out = torch.empty_like(input,dtype=input.dtype,device=input.device)\n",
        "  m,n = input.shape\n",
        "  BLOCK_SIZE_N = triton.next_power_of_2(n)\n",
        "  BLOCK_SIZE_M = 128\n",
        "  grid = triton.cdiv(m,BLOCK_SIZE_M)\n",
        "  l2_norm_kernel[(grid,)](input,out,input.stride(0),input.stride(1),m,n,BLOCK_SIZE_M,BLOCK_SIZE_N)\n",
        "  return out"
      ],
      "metadata": {
        "id": "liFOS5v1JYGs"
      },
      "execution_count": 15,
      "outputs": []
    },
    {
      "cell_type": "code",
      "source": [
        "import torch\n",
        "\n",
        "x = torch.rand((256,1024),device='cuda')\n",
        "l2norm = torch.norm(x, p=2, dim=1, keepdim=True)\n",
        "\n",
        "x_normalized = x / l2norm\n",
        "triton_normalized = l2_norm(x)\n"
      ],
      "metadata": {
        "id": "oRacNFDRLRGt"
      },
      "execution_count": 17,
      "outputs": []
    },
    {
      "cell_type": "code",
      "source": [
        "print(torch.allclose(x_normalized,triton_normalized))"
      ],
      "metadata": {
        "colab": {
          "base_uri": "https://localhost:8080/"
        },
        "id": "oJ_NGexhLoyr",
        "outputId": "9782e885-42b3-46dd-fc26-f3cb3174a0e2"
      },
      "execution_count": 18,
      "outputs": [
        {
          "output_type": "stream",
          "name": "stdout",
          "text": [
            "True\n"
          ]
        }
      ]
    }
  ]
}