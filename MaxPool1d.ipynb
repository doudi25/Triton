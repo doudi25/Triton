{
  "nbformat": 4,
  "nbformat_minor": 0,
  "metadata": {
    "colab": {
      "provenance": [],
      "gpuType": "T4",
      "include_colab_link": true
    },
    "kernelspec": {
      "name": "python3",
      "display_name": "Python 3"
    },
    "language_info": {
      "name": "python"
    },
    "accelerator": "GPU"
  },
  "cells": [
    {
      "cell_type": "markdown",
      "metadata": {
        "id": "view-in-github",
        "colab_type": "text"
      },
      "source": [
        "<a href=\"https://colab.research.google.com/github/doudi25/Triton/blob/main/MaxPool1d.ipynb\" target=\"_parent\"><img src=\"https://colab.research.google.com/assets/colab-badge.svg\" alt=\"Open In Colab\"/></a>"
      ]
    },
    {
      "cell_type": "code",
      "execution_count": 1,
      "metadata": {
        "id": "ES6efjqq51TB"
      },
      "outputs": [],
      "source": [
        "import triton\n",
        "import triton.language as tl\n",
        "import torch"
      ]
    },
    {
      "cell_type": "code",
      "source": [
        "@triton.jit\n",
        "def maxpool1d_kernel(input_ptr,out_ptr,channels,dim,stride_in_b,stride_in_m,stride_in_n,\n",
        "                     stride_b,stride_m,stride_n,BLOCK_SIZE_K:tl.constexpr,BLOCK_SIZE_C:tl.constexpr):\n",
        "  batch_id = tl.program_id(axis=0)\n",
        "  channel_id = tl.program_id(axis=1)\n",
        "  col_id = tl.program_id(axis=2)\n",
        "  channel_offs = channel_id * BLOCK_SIZE_C + tl.arange(0,BLOCK_SIZE_C)\n",
        "  col_offs = col_id * BLOCK_SIZE_K + tl.arange(0,BLOCK_SIZE_K)\n",
        "  channel_mask = channel_offs[:,None] < channels\n",
        "  channel_out_mask = channel_mask\n",
        "  channel_out_offs = channel_offs\n",
        "  col_mask = col_offs[None,:] < dim\n",
        "  channel_offs = channel_offs[:,None] * stride_in_m\n",
        "  col_offs = col_offs[None,:] * stride_in_n\n",
        "  input_offs = input_ptr + batch_id * stride_in_b + channel_offs + col_offs\n",
        "  input = tl.load(input_offs,mask=(channel_mask & col_mask))\n",
        "  maximum = tl.max(input,axis=1)\n",
        "  channel_out_off = channel_out_offs[:,None] * stride_m\n",
        "  out_offs = batch_id * stride_b + channel_out_off + col_id[None,:]\n",
        "  tl.store(out_offs+out_ptr,maximum[:,None])\n"
      ],
      "metadata": {
        "id": "pVmut94I5_qP"
      },
      "execution_count": 3,
      "outputs": []
    },
    {
      "cell_type": "code",
      "source": [
        "def triton_maxpool1d(input,kernel_shape):\n",
        "  assert input.is_cuda\n",
        "  assert input.ndim == 3\n",
        "  assert input.shape[-1] % kernel_shape == 0\n",
        "  bs, channels, dim = input.shape\n",
        "  out = torch.empty((bs,channels,dim//kernel_shape),device=input.device)\n",
        "  BLOCK_SIZE_K = kernel_shape\n",
        "  BLOCK_SIZE_C = triton.next_power_of_2(kernel_shape)\n",
        "  grid = (bs,channels//BLOCK_SIZE_C,dim//BLOCK_SIZE_K)\n",
        "  maxpool1d_kernel[grid](input,out,channels,dim,input.stride(0),input.stride(1),input.stride(2)\n",
        "  ,out.stride(0),out.stride(1),out.stride(2),BLOCK_SIZE_K,BLOCK_SIZE_C)\n",
        "  return out"
      ],
      "metadata": {
        "id": "ITrErYrhXY2H"
      },
      "execution_count": 4,
      "outputs": []
    },
    {
      "cell_type": "code",
      "source": [
        "a = torch.rand(2,8,12).to('cuda')\n",
        "b = torch.nn.MaxPool1d(4,4).to('cuda')\n",
        "out = b(a)\n",
        "out_triton = triton_maxpool1d(a,4)\n",
        "print(torch.allclose(out,out_triton))"
      ],
      "metadata": {
        "id": "n-M8eVQ-DUhg",
        "outputId": "4dfab966-bad4-4256-a0c0-75b57e8f2db4",
        "colab": {
          "base_uri": "https://localhost:8080/"
        }
      },
      "execution_count": 5,
      "outputs": [
        {
          "output_type": "stream",
          "name": "stdout",
          "text": [
            "True\n"
          ]
        }
      ]
    }
  ]
}